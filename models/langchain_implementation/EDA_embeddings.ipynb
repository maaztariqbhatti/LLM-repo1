{
 "cells": [
  {
   "cell_type": "code",
   "execution_count": 2,
   "metadata": {},
   "outputs": [],
   "source": [
    "import pandas as pd\n",
    "import pickle\n",
    "from langchain_community.vectorstores import chroma as Chroma\n",
    "from langchain_community.embeddings import HuggingFaceBgeEmbeddings\n",
    "from langchain_core.vectorstores import VectorStoreRetriever\n",
    "from langchain_community.document_loaders import DataFrameLoader\n",
    "from langchain.indexes import SQLRecordManager, index\n",
    "from langchain_core.documents import Document"
   ]
  },
  {
   "cell_type": "code",
   "execution_count": 3,
   "metadata": {},
   "outputs": [],
   "source": [
    "##FSD_1555\n",
    "dataPath = \"/home/mbhatti/mnt/d/LLM-repo1/models/langchain_implementation/fsd_1555_0601_21_59_22TO23_59_59.pkl\"\n",
    "dateFrom = \"2023-06-01 22:59:45+00:00\" \n",
    "dateTo = \"2023-06-01 23:59:59+00:00\" #200 tweets labelled"
   ]
  },
  {
   "cell_type": "code",
   "execution_count": 4,
   "metadata": {},
   "outputs": [
    {
     "data": {
      "text/html": [
       "<div>\n",
       "<style scoped>\n",
       "    .dataframe tbody tr th:only-of-type {\n",
       "        vertical-align: middle;\n",
       "    }\n",
       "\n",
       "    .dataframe tbody tr th {\n",
       "        vertical-align: top;\n",
       "    }\n",
       "\n",
       "    .dataframe thead th {\n",
       "        text-align: right;\n",
       "    }\n",
       "</style>\n",
       "<table border=\"1\" class=\"dataframe\">\n",
       "  <thead>\n",
       "    <tr style=\"text-align: right;\">\n",
       "      <th></th>\n",
       "      <th>date</th>\n",
       "      <th>text</th>\n",
       "    </tr>\n",
       "  </thead>\n",
       "  <tbody>\n",
       "    <tr>\n",
       "      <th>7297</th>\n",
       "      <td>2023-06-01 23:59:59+00:00</td>\n",
       "      <td>◆ Heavy Rain and Flood Warning in Toyohashi Ci...</td>\n",
       "    </tr>\n",
       "    <tr>\n",
       "      <th>7298</th>\n",
       "      <td>2023-06-01 23:57:15+00:00</td>\n",
       "      <td>At 6:38 a.m., a large rainstorm warning was is...</td>\n",
       "    </tr>\n",
       "    <tr>\n",
       "      <th>7299</th>\n",
       "      <td>2023-06-01 23:57:06+00:00</td>\n",
       "      <td>Everyone, are you okay with the effects of typ...</td>\n",
       "    </tr>\n",
       "    <tr>\n",
       "      <th>7300</th>\n",
       "      <td>2023-06-01 23:56:42+00:00</td>\n",
       "      <td>Good morning #It's raining in Hikone City I've...</td>\n",
       "    </tr>\n",
       "    <tr>\n",
       "      <th>7301</th>\n",
       "      <td>2023-06-01 23:56:39+00:00</td>\n",
       "      <td>Osaka City has a temperature of 22.2°C humidit...</td>\n",
       "    </tr>\n",
       "    <tr>\n",
       "      <th>...</th>\n",
       "      <td>...</td>\n",
       "      <td>...</td>\n",
       "    </tr>\n",
       "    <tr>\n",
       "      <th>7491</th>\n",
       "      <td>2023-06-01 23:01:14+00:00</td>\n",
       "      <td>[Climate Warning] 2023/6/2 6:11 Hikone Regiona...</td>\n",
       "    </tr>\n",
       "    <tr>\n",
       "      <th>7492</th>\n",
       "      <td>2023-06-01 23:00:51+00:00</td>\n",
       "      <td>June 02, 2023 (Friday) 08:00Currently #Hurry R...</td>\n",
       "    </tr>\n",
       "    <tr>\n",
       "      <th>7493</th>\n",
       "      <td>2023-06-01 23:00:44+00:00</td>\n",
       "      <td>Situation of Dams and Inflows under Flood Cont...</td>\n",
       "    </tr>\n",
       "    <tr>\n",
       "      <th>7494</th>\n",
       "      <td>2023-06-01 23:00:15+00:00</td>\n",
       "      <td>A flood warning was issued in southern Hamamat...</td>\n",
       "    </tr>\n",
       "    <tr>\n",
       "      <th>7495</th>\n",
       "      <td>2023-06-01 22:59:45+00:00</td>\n",
       "      <td>I was on a park bus, but I got a flood warning...</td>\n",
       "    </tr>\n",
       "  </tbody>\n",
       "</table>\n",
       "<p>199 rows × 2 columns</p>\n",
       "</div>"
      ],
      "text/plain": [
       "                           date  \\\n",
       "7297  2023-06-01 23:59:59+00:00   \n",
       "7298  2023-06-01 23:57:15+00:00   \n",
       "7299  2023-06-01 23:57:06+00:00   \n",
       "7300  2023-06-01 23:56:42+00:00   \n",
       "7301  2023-06-01 23:56:39+00:00   \n",
       "...                         ...   \n",
       "7491  2023-06-01 23:01:14+00:00   \n",
       "7492  2023-06-01 23:00:51+00:00   \n",
       "7493  2023-06-01 23:00:44+00:00   \n",
       "7494  2023-06-01 23:00:15+00:00   \n",
       "7495  2023-06-01 22:59:45+00:00   \n",
       "\n",
       "                                                   text  \n",
       "7297  ◆ Heavy Rain and Flood Warning in Toyohashi Ci...  \n",
       "7298  At 6:38 a.m., a large rainstorm warning was is...  \n",
       "7299  Everyone, are you okay with the effects of typ...  \n",
       "7300  Good morning #It's raining in Hikone City I've...  \n",
       "7301  Osaka City has a temperature of 22.2°C humidit...  \n",
       "...                                                 ...  \n",
       "7491  [Climate Warning] 2023/6/2 6:11 Hikone Regiona...  \n",
       "7492  June 02, 2023 (Friday) 08:00Currently #Hurry R...  \n",
       "7493  Situation of Dams and Inflows under Flood Cont...  \n",
       "7494  A flood warning was issued in southern Hamamat...  \n",
       "7495  I was on a park bus, but I got a flood warning...  \n",
       "\n",
       "[199 rows x 2 columns]"
      ]
     },
     "execution_count": 4,
     "metadata": {},
     "output_type": "execute_result"
    }
   ],
   "source": [
    "# Loading pandas dataframe from picke file\n",
    "with open(dataPath, 'rb') as f:\n",
    "    data = pickle.load(f)\n",
    "\n",
    "df = pd.DataFrame(data)\n",
    "df['date'] = pd.to_datetime(df['date'])\n",
    "# df = df.drop(columns=['id','tag_class', 'source', 'lang', 'urls','locations'])\n",
    "\n",
    "#Get data between thresholds\n",
    "threshold_datetime_lower = pd.to_datetime(dateFrom)\n",
    "threshold_datetime_upper = pd.to_datetime(dateTo)\n",
    "df = df[df['date'] >= threshold_datetime_lower]\n",
    "df = df[df['date'] <= threshold_datetime_upper]\n",
    "df_new  = df.drop_duplicates(subset=[\"text\"], keep=False)\n",
    "#Covert date to string\n",
    "df['date'] = df['date'].astype(str)\n",
    "df"
   ]
  },
  {
   "cell_type": "code",
   "execution_count": 5,
   "metadata": {},
   "outputs": [],
   "source": [
    "def bgeEmbeddings():\n",
    "    model_name = \"BAAI/bge-large-en-v1.5\"\n",
    "    model_kwargs = {'device': 'cuda'}\n",
    "    encode_kwargs = {'normalize_embeddings': True} # set True to compute cosine similarity\n",
    "    model = HuggingFaceBgeEmbeddings(\n",
    "        model_name=model_name,\n",
    "        model_kwargs=model_kwargs,\n",
    "        encode_kwargs=encode_kwargs\n",
    "    )\n",
    "    return model"
   ]
  },
  {
   "cell_type": "code",
   "execution_count": 6,
   "metadata": {},
   "outputs": [],
   "source": [
    "embeddings = bgeEmbeddings()\n",
    "\n",
    "documents = []\n",
    "loader = DataFrameLoader(data, page_content_column=\"text\")\n",
    "documents.extend(loader.load())\n",
    "#Create a vector store\n",
    "# db = Chroma.Chroma(\"Langchain collection\",embeddings)\n",
    "db = Chroma.Chroma.from_documents(documents,embeddings)"
   ]
  },
  {
   "cell_type": "code",
   "execution_count": 30,
   "metadata": {},
   "outputs": [],
   "source": [
    "retriever = db.as_retriever(search_kwargs={\"k\": 5})"
   ]
  },
  {
   "cell_type": "code",
   "execution_count": 7,
   "metadata": {},
   "outputs": [
    {
     "name": "stderr",
     "output_type": "stream",
     "text": [
      "/home/mbhatti/miniconda3/envs/llama/lib/python3.11/site-packages/umap/umap_.py:1945: UserWarning: n_jobs value 1 overridden to 1 by setting random_state. Use no seed for parallelism.\n",
      "  warn(f\"n_jobs value {self.n_jobs} overridden to 1 by setting random_state. Use no seed for parallelism.\")\n"
     ]
    }
   ],
   "source": [
    "import umap\n",
    "import numpy as np\n",
    "from tqdm import tqdm\n",
    "docs = df.text.tolist()\n",
    "vectors = embeddings.embed_documents(docs)\n",
    "umap_transformer = umap.UMAP(random_state=0, transform_seed=0).fit(vectors)"
   ]
  },
  {
   "cell_type": "code",
   "execution_count": 8,
   "metadata": {},
   "outputs": [],
   "source": [
    "def umap_embed(vectors, umap_transformer):\n",
    "    umap_embeddings = np.array([umap_transformer.transform([vector])[0] for vector in tqdm(vectors)])\n",
    "    return umap_embeddings"
   ]
  },
  {
   "cell_type": "code",
   "execution_count": 9,
   "metadata": {},
   "outputs": [
    {
     "name": "stderr",
     "output_type": "stream",
     "text": [
      "100%|██████████| 199/199 [02:18<00:00,  1.44it/s]\n"
     ]
    }
   ],
   "source": [
    "\n",
    "global_embeddings = umap_embed(vectors, umap_transformer)"
   ]
  },
  {
   "cell_type": "code",
   "execution_count": 10,
   "metadata": {},
   "outputs": [
    {
     "data": {
      "text/plain": [
       "array([[ 2.1865418e+00, -5.0345266e-01],\n",
       "       [-4.3381529e+00,  3.0730331e-01],\n",
       "       [-2.9741595e+00, -3.8525770e+00],\n",
       "       [-3.3153620e+00, -3.9241390e+00],\n",
       "       [-4.3462682e+00, -3.3887031e+00],\n",
       "       [-1.4069029e+00, -1.9705679e+00],\n",
       "       [-4.4064035e+00, -1.8467354e+00],\n",
       "       [-4.0799890e+00, -3.6658640e+00],\n",
       "       [-3.9603689e+00, -3.7049484e+00],\n",
       "       [-1.5473850e+00, -2.0070930e+00],\n",
       "       [-3.8134551e+00, -3.7979424e+00],\n",
       "       [-9.6994603e-01, -1.1741500e+00],\n",
       "       [-8.2523727e-01, -1.8498017e-01],\n",
       "       [-2.7065136e-02,  3.5460666e-01],\n",
       "       [-4.4920988e+00, -2.4820585e+00],\n",
       "       [ 1.5133747e+00,  1.5651227e+00],\n",
       "       [-2.4527075e+00,  9.0319288e-01],\n",
       "       [-4.0334344e+00,  1.3321270e+00],\n",
       "       [-3.3595719e+00, -3.8789585e+00],\n",
       "       [ 2.2293210e+00,  1.6633034e+00],\n",
       "       [-3.6234260e+00, -3.9192250e+00],\n",
       "       [ 1.0021268e+00, -7.7070051e-01],\n",
       "       [-3.6429827e+00, -3.8486063e+00],\n",
       "       [ 2.0671122e+00,  1.2195759e+00],\n",
       "       [-4.7580271e+00, -1.2354943e+00],\n",
       "       [-2.0163567e-01, -2.6631814e-01],\n",
       "       [-3.9985695e+00, -2.7145840e-02],\n",
       "       [-4.7590990e+00,  9.5638186e-01],\n",
       "       [-1.3824629e+00, -2.1451397e+00],\n",
       "       [ 1.2770377e+00, -6.3451362e-01],\n",
       "       [-4.5103512e+00, -2.0370593e+00],\n",
       "       [ 9.9151987e-01,  9.7039610e-01],\n",
       "       [-4.7472286e+00, -1.2782551e+00],\n",
       "       [-8.8123864e-01, -2.3285184e+00],\n",
       "       [-4.1038322e+00,  1.2636938e+00],\n",
       "       [-3.1243732e+00, -3.8722289e+00],\n",
       "       [-1.5442642e+00, -2.6665847e+00],\n",
       "       [ 1.9108469e+00,  6.9674736e-01],\n",
       "       [-3.5359023e+00, -3.9217622e+00],\n",
       "       [-3.6019287e+00, -3.8553360e+00],\n",
       "       [-3.6497934e+00, -3.8900428e+00],\n",
       "       [ 1.5983720e+00,  5.3510046e-01],\n",
       "       [-4.7139988e+00, -1.2846487e+00],\n",
       "       [-3.8930361e+00,  1.3730437e+00],\n",
       "       [-1.8694350e+00, -3.1095951e+00],\n",
       "       [-3.8663938e+00, -5.7854837e-01],\n",
       "       [-1.4154638e+00, -1.9740516e+00],\n",
       "       [-3.6311369e+00,  1.5065057e+00],\n",
       "       [ 1.7572950e+00,  1.3172086e+00],\n",
       "       [-4.4947038e+00, -2.0002959e+00],\n",
       "       [-4.2859330e+00,  1.1905489e+00],\n",
       "       [ 1.4084858e+00, -3.8630474e-01],\n",
       "       [-2.6531129e+00, -4.0079808e+00],\n",
       "       [-5.2788739e+00, -3.2452825e-01],\n",
       "       [ 2.1550741e+00,  1.3506989e+00],\n",
       "       [ 1.5011928e+00, -6.9601965e-01],\n",
       "       [ 2.1875706e+00,  1.2246664e+00],\n",
       "       [ 2.1550741e+00,  1.3506989e+00],\n",
       "       [ 1.2413217e+00,  1.0883625e+00],\n",
       "       [-4.9196072e+00,  3.3469069e-01],\n",
       "       [-2.9332032e+00,  1.2762665e+00],\n",
       "       [-1.5770957e+00, -2.8538277e+00],\n",
       "       [-1.7907057e+00, -2.9780779e+00],\n",
       "       [ 4.2122811e-02,  1.1857479e+00],\n",
       "       [ 7.9889059e-01,  1.6527917e+00],\n",
       "       [-1.6182030e+00, -2.0941870e+00],\n",
       "       [-4.6915851e+00, -1.1696002e+00],\n",
       "       [-1.7120888e+00, -2.8912375e+00],\n",
       "       [-3.3611040e+00, -3.9337070e+00],\n",
       "       [ 2.1543589e+00,  1.1584413e+00],\n",
       "       [-3.5336556e+00,  1.5267954e+00],\n",
       "       [ 8.3579451e-01,  1.0394745e+00],\n",
       "       [ 1.7805774e+00,  1.2972673e+00],\n",
       "       [-4.5010023e+00, -2.0712693e+00],\n",
       "       [ 1.6584586e+00,  1.9476318e-01],\n",
       "       [-5.0555363e+00,  8.0114469e-02],\n",
       "       [-4.9938817e+00,  4.1476041e-01],\n",
       "       [-3.3390039e-01, -1.0852225e+00],\n",
       "       [ 8.2969058e-01, -8.2292420e-01],\n",
       "       [-3.7582698e+00, -3.8360329e+00],\n",
       "       [ 2.2293210e+00,  1.6633034e+00],\n",
       "       [ 2.1078122e+00,  1.1353898e+00],\n",
       "       [-1.5851252e+00, -1.4025661e-01],\n",
       "       [ 1.0077145e+00,  1.5506649e+00],\n",
       "       [-2.0394800e+00, -3.4548676e+00],\n",
       "       [ 2.1914697e+00, -5.1308805e-01],\n",
       "       [-4.7576060e+00, -1.1642590e+00],\n",
       "       [-4.2724109e+00, -5.1184857e-01],\n",
       "       [-1.4043675e-01,  4.1140833e-01],\n",
       "       [ 2.2508273e+00,  2.0419837e-03],\n",
       "       [ 2.0868485e+00,  1.1528296e+00],\n",
       "       [ 1.8444754e+00, -6.7997688e-01],\n",
       "       [ 2.2300320e+00, -4.8747376e-01],\n",
       "       [-4.7344394e+00, -2.0908957e+00],\n",
       "       [-3.8959873e+00, -3.7613025e+00],\n",
       "       [ 2.0810611e+00,  1.0673559e+00],\n",
       "       [-5.2144046e+00, -4.8739234e-01],\n",
       "       [ 1.9045801e+00,  1.0618283e+00],\n",
       "       [-1.6334699e+00, -5.1235694e-01],\n",
       "       [ 1.8381562e+00, -6.0527158e-01],\n",
       "       [-1.5014946e+00, -2.8765547e+00],\n",
       "       [ 4.9607581e-01,  1.3686657e+00],\n",
       "       [ 1.9977365e+00,  1.0014770e+00],\n",
       "       [-3.6629813e+00,  1.4763048e+00],\n",
       "       [-3.4789574e+00, -3.8602087e+00],\n",
       "       [ 1.9859535e+00,  9.6980256e-01],\n",
       "       [-4.5213895e+00, -2.3266232e+00],\n",
       "       [ 2.2398045e+00, -3.6370891e-01],\n",
       "       [-4.4826169e+00, -1.8839352e+00],\n",
       "       [ 1.9939363e+00,  3.6423889e-01],\n",
       "       [-1.6794763e+00, -2.8830998e+00],\n",
       "       [-4.4916306e+00, -2.0420561e+00],\n",
       "       [-2.2232039e+00, -3.7332625e+00],\n",
       "       [-1.9943516e+00,  3.1324452e-01],\n",
       "       [-4.5508780e+00,  1.0136267e+00],\n",
       "       [-4.2553005e+00, -2.7399091e-02],\n",
       "       [-3.1710622e+00,  1.4079555e+00],\n",
       "       [-1.4781082e+00,  6.4682966e-01],\n",
       "       [-2.9939437e+00,  1.3355961e+00],\n",
       "       [-4.3343840e+00, -1.5621110e+00],\n",
       "       [-1.1544278e+00, -1.0747055e+00],\n",
       "       [-2.5803795e+00,  1.0996683e+00],\n",
       "       [-4.5181799e+00, -2.2665699e+00],\n",
       "       [ 5.9863925e-01,  1.3401709e+00],\n",
       "       [-1.7803165e+00, -2.6380447e-01],\n",
       "       [-1.9253179e+00, -3.4723201e+00],\n",
       "       [-4.3482389e+00, -1.5898362e+00],\n",
       "       [-4.4527364e+00, -2.0556850e+00],\n",
       "       [-4.8779774e+00,  4.2246306e-01],\n",
       "       [-4.2413640e+00,  1.2080690e+00],\n",
       "       [-5.0783381e+00, -4.0661490e-01],\n",
       "       [-3.9538615e+00, -3.7792096e+00],\n",
       "       [-1.3529799e+00, -6.3461322e-01],\n",
       "       [ 1.5836642e+00,  1.0308981e-01],\n",
       "       [-2.2728577e+00, -3.7032247e+00],\n",
       "       [ 2.2211401e+00, -5.2443361e-01],\n",
       "       [-3.9122238e+00,  1.3853343e+00],\n",
       "       [-3.8086727e+00,  1.4213356e+00],\n",
       "       [-4.1504898e+00,  1.2925228e+00],\n",
       "       [ 9.9151987e-01,  9.7039610e-01],\n",
       "       [-4.0442352e+00,  1.3744748e+00],\n",
       "       [-3.6304860e+00,  1.4821336e+00],\n",
       "       [-4.8295426e+00,  5.5643272e-01],\n",
       "       [-2.0294967e+00,  6.8850780e-01],\n",
       "       [-4.2222757e+00,  2.8674164e-01],\n",
       "       [-4.4652910e+00,  1.0692050e+00],\n",
       "       [-4.2730927e+00,  1.2114447e+00],\n",
       "       [-1.1768008e+00, -1.1997895e+00],\n",
       "       [-1.9101194e+00,  1.9951080e-01],\n",
       "       [-4.1718264e+00, -5.0862861e-01],\n",
       "       [-1.3984216e+00, -7.4388951e-01],\n",
       "       [-3.5671456e+00,  1.6454750e+00],\n",
       "       [-5.0292845e+00, -7.9397923e-01],\n",
       "       [-5.1679554e+00,  2.5462937e-01],\n",
       "       [ 1.8354797e+00, -6.0426652e-01],\n",
       "       [-5.0060444e+00,  5.0481653e-01],\n",
       "       [-3.8340373e+00, -3.7781153e+00],\n",
       "       [-4.5495033e+00, -2.1822412e+00],\n",
       "       [-4.7198839e+00,  6.7213786e-01],\n",
       "       [-4.4678168e+00, -3.1077867e+00],\n",
       "       [-4.5212011e+00, -2.0950241e+00],\n",
       "       [-1.3647422e+00, -1.1138401e+00],\n",
       "       [-3.4247451e+00, -1.2641227e+00],\n",
       "       [-4.4683661e+00, -3.1080284e+00],\n",
       "       [ 1.8605521e-01,  6.5819196e-02],\n",
       "       [-3.1607835e+00, -3.9465654e+00],\n",
       "       [-4.1398907e+00,  1.5322216e-01],\n",
       "       [ 1.2749234e+00,  5.6673115e-01],\n",
       "       [-2.2209203e+00, -3.8095675e+00],\n",
       "       [ 6.9222413e-02,  1.1923783e+00],\n",
       "       [ 1.4365202e-01,  1.2165643e+00],\n",
       "       [ 2.7733177e-01, -1.9124024e-02],\n",
       "       [-2.2436876e+00,  9.4855064e-01],\n",
       "       [-4.6425867e+00, -1.4666559e+00],\n",
       "       [-4.7463202e+00, -1.1948371e+00],\n",
       "       [-1.2911464e+00, -1.1886574e+00],\n",
       "       [-4.6371593e+00, -2.0123610e+00],\n",
       "       [-4.6789923e+00, -1.3257624e+00],\n",
       "       [ 1.6370261e+00,  1.9184911e-01],\n",
       "       [ 1.0058559e+00,  9.3650550e-01],\n",
       "       [ 1.5238001e+00,  1.5871727e+00],\n",
       "       [ 1.2388523e+00,  6.1192656e-01],\n",
       "       [-1.2911464e+00, -1.1886574e+00],\n",
       "       [-2.5457065e+00, -3.8469946e+00],\n",
       "       [-4.5795579e+00, -2.2318497e+00],\n",
       "       [-4.3366823e+00, -3.6831534e+00],\n",
       "       [ 5.5251867e-01, -8.9785457e-01],\n",
       "       [ 2.5887379e-01,  2.1960445e-02],\n",
       "       [-3.0872291e-01, -1.0778227e+00],\n",
       "       [-1.8182493e+00, -3.1491396e+00],\n",
       "       [-5.1142502e+00, -2.9398778e-01],\n",
       "       [-2.8343527e+00,  1.1279472e+00],\n",
       "       [ 5.0496376e-01, -9.3502802e-01],\n",
       "       [-5.0201926e+00, -4.3697247e-01],\n",
       "       [-4.8304996e+00,  4.8657501e-01],\n",
       "       [-3.0439065e+00, -1.0222387e+00],\n",
       "       [-1.8203128e-02,  1.0940087e+00],\n",
       "       [-5.2753992e+00,  4.0745344e-02],\n",
       "       [-1.6462277e+00, -6.2151879e-01]], dtype=float32)"
      ]
     },
     "execution_count": 10,
     "metadata": {},
     "output_type": "execute_result"
    }
   ],
   "source": [
    "global_embeddings"
   ]
  },
  {
   "cell_type": "code",
   "execution_count": 11,
   "metadata": {},
   "outputs": [
    {
     "data": {
      "text/plain": [
       "(-5.655358982086182, 2.6273123741149904, -4.291545033454895, 1.94686758518219)"
      ]
     },
     "execution_count": 11,
     "metadata": {},
     "output_type": "execute_result"
    },
    {
     "data": {
      "image/png": "[encoded data removed]",
      "text/plain": [
       "<Figure size 640x480 with 1 Axes>"
      ]
     },
     "metadata": {},
     "output_type": "display_data"
    }
   ],
   "source": [
    "import matplotlib.pyplot as plt\n",
    "\n",
    "plt.figure()\n",
    "plt.scatter(global_embeddings[:, 0], global_embeddings[:, 1], s=10)\n",
    "plt.gca().set_aspect('equal', 'datalim')\n",
    "plt.title('Embeddings')\n",
    "plt.axis('off')"
   ]
  },
  {
   "cell_type": "code",
   "execution_count": 32,
   "metadata": {},
   "outputs": [],
   "source": [
    "def calc_global_embeddings(query, embeddings, retriever, umap_transformer, embed_function, global_embeddings):\n",
    "    q_embedding = embeddings.embed_query(query)\n",
    "\n",
    "    docs = retriever.get_relevant_documents(query)\n",
    "    # print(docs)\n",
    "    page_contents = [doc.page_content for doc in docs]\n",
    "    vectors_content_vectors = embeddings.embed_documents(page_contents)\n",
    "\n",
    "    query_embeddings = embed_function([q_embedding], umap_transformer)\n",
    "    retrieved_embeddings = embed_function(vectors_content_vectors, umap_transformer)\n",
    "\n",
    "    plt.figure()\n",
    "    plt.scatter(global_embeddings[:, 0], global_embeddings[:, 1], s=10, color='gray')\n",
    "    plt.scatter(query_embeddings[:, 0], query_embeddings[:, 1], s=150, marker='X', color='r')\n",
    "    plt.scatter(retrieved_embeddings[:, 0], retrieved_embeddings[:, 1], s=50, facecolors='none', edgecolors='g')\n",
    "    plt.gca().set_aspect('equal', 'datalim')\n",
    "    plt.title(f'{query}')\n",
    "    plt.axis('off')\n",
    "    plt.show()"
   ]
  },
  {
   "cell_type": "code",
   "execution_count": 33,
   "metadata": {},
   "outputs": [
    {
     "name": "stderr",
     "output_type": "stream",
     "text": [
      "100%|██████████| 1/1 [00:01<00:00,  1.02s/it]\n",
      "100%|██████████| 5/5 [00:03<00:00,  1.59it/s]\n"
     ]
    },
    {
     "data": {
      "image/png": "[encoded data removed]",
      "text/plain": [
       "<Figure size 640x480 with 1 Axes>"
      ]
     },
     "metadata": {},
     "output_type": "display_data"
    }
   ],
   "source": [
    "calc_global_embeddings(\"In Hyogo Prefecture, heavy rains of more than 40 mm per hour flooded the Kago and Ichikawa rivers, killing three people.In Kagawa Prefecture, 59 houses in the prefecture were flooded due to the collapse of a pond in six of the prefecture, including Sakade City.\", embeddings, retriever, umap_transformer, umap_embed, global_embeddings)\n"
   ]
  }
 ],
 "metadata": {
  "kernelspec": {
   "display_name": "llama",
   "language": "python",
   "name": "python3"
  },
  "language_info": {
   "codemirror_mode": {
    "name": "ipython",
    "version": 3
   },
   "file_extension": ".py",
   "mimetype": "text/x-python",
   "name": "python",
   "nbconvert_exporter": "python",
   "pygments_lexer": "ipython3",
   "version": "3.11.7"
  }
 },
 "nbformat": 4,
 "nbformat_minor": 2
}
