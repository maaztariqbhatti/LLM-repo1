{
 "cells": [
  {
   "cell_type": "code",
   "execution_count": 37,
   "metadata": {},
   "outputs": [],
   "source": [
    "import pandas as pd\n",
    "import pickle\n",
    "from langchain_community.vectorstores import chroma as Chroma\n",
    "from langchain_community.embeddings import HuggingFaceBgeEmbeddings\n",
    "from langchain_core.vectorstores import VectorStoreRetriever\n",
    "from langchain_community.document_loaders import DataFrameLoader\n",
    "from langchain.indexes import SQLRecordManager, index\n",
    "from langchain_core.documents import Document\n",
    "import json\n",
    "from Text_preprocessing import Text_preprocessing\n",
    "from langchain_openai import ChatOpenAI\n",
    "from langchain.chains import ConversationChain, LLMChain, LLMRouterChain, MultiPromptChain, HypotheticalDocumentEmbedder, RetrievalQA\n",
    "from langchain_core.prompts import PromptTemplate\n",
    "import dotenv"
   ]
  },
  {
   "cell_type": "code",
   "execution_count": 8,
   "metadata": {},
   "outputs": [],
   "source": [
    "##FSD_1777\n",
    "dataPath = \"/home/mbhatti/mnt/d/LLM-repo1/models/langchain_implementation/FSD1777_Oct23.json\"\n",
    "dateFrom = \"2023-10-19T18:58:41+00:00\" #2023-10-19T18:58:41Z for 200 tweets\n",
    "dateTo = \"2023-10-19 23:58:47+00:00\"\n"
   ]
  },
  {
   "cell_type": "code",
   "execution_count": 9,
   "metadata": {},
   "outputs": [],
   "source": [
    "\"\"\"Load relevant fields of flood tags api json response\"\"\"\n",
    "def json_dataloader(dataPath = dataPath, dateFrom = dateFrom, dateTo = dateTo):\n",
    "    # Load json and extract relevant records in pandas df\n",
    "    with open(dataPath, 'r') as json_file:\n",
    "        response_dict = json.load(json_file)\n",
    "\n",
    "    # Convert to pandas df    \n",
    "    pd.set_option('display.max_colwidth', None)\n",
    "    df = pd.DataFrame(response_dict)\n",
    "    df['date'] = pd.to_datetime(df['date'])\n",
    "    df = df.drop(columns=['id','tag_class', 'source', 'lang', 'urls','locations'])\n",
    "\n",
    "    #Get data between thresholds\n",
    "    threshold_datetime_lower = pd.to_datetime(dateFrom)\n",
    "    threshold_datetime_upper = pd.to_datetime(dateTo)\n",
    "    df = df[df['date'] >= threshold_datetime_lower]\n",
    "    df = df[df['date'] <= threshold_datetime_upper]\n",
    "\n",
    "    #Pre-process\n",
    "    preprocess = Text_preprocessing(df)\n",
    "    df = preprocess.preprocess()\n",
    "    #Covert date to string\n",
    "    df['date'] = df['date'].astype(str)\n",
    "    return df\n",
    "\n",
    "def bgeEmbeddings():\n",
    "    model_name = \"BAAI/bge-large-en-v1.5\"\n",
    "    model_kwargs = {'device': 'cuda'}\n",
    "    encode_kwargs = {'normalize_embeddings': True} # set True to compute cosine similarity\n",
    "    model = HuggingFaceBgeEmbeddings(\n",
    "        model_name=model_name,\n",
    "        model_kwargs=model_kwargs,\n",
    "        encode_kwargs=encode_kwargs\n",
    "    )\n",
    "    return model\n",
    "\n",
    "def hydeEmbedder(embeddingsModel):\n",
    "\n",
    "    model = ChatOpenAI()\n",
    "    prompt_template  = \"\"\"You are a smart twitter bot. Make up 2 tweets as answers to the users question related to flooding events. Only return the dummy tweets.<<SYS>>\n",
    "    Question: {question}\"\"\"\n",
    "    prompt = PromptTemplate(input_variables=[\"question\"], template= prompt_template)\n",
    "    llm_chain_hyde  = LLMChain(llm = model, prompt=prompt)\n",
    "\n",
    "    embeddings = HypotheticalDocumentEmbedder(llm_chain=llm_chain_hyde,\n",
    "                                                base_embeddings=embeddingsModel,\n",
    "                                                verbose=True)\n",
    "    return embeddings\n",
    "\n",
    "\n",
    "def data_embedding(data : list, eModel = \"bge-large-en-v1.5\", rType = \"Query\"):\n",
    "    \"\"\"Vectorize the data using OpenAI embeddings and store in Chroma db\"\"\"\n",
    "\n",
    "    embeddings = bgeEmbeddings()\n",
    "    \n",
    "    if (rType == \"Hyde\"):\n",
    "        embeddings = hydeEmbedder(embeddings)\n",
    "\n",
    "    documents = []\n",
    "    loader = DataFrameLoader(data, page_content_column=\"text\")\n",
    "    documents.extend(loader.load())\n",
    "\n",
    "    #Create a vector store\n",
    "    db = Chroma.Chroma.from_documents(documents,embeddings)\n",
    "\n",
    "    return db"
   ]
  },
  {
   "cell_type": "code",
   "execution_count": 38,
   "metadata": {},
   "outputs": [],
   "source": [
    "\n",
    "dotenv.load_dotenv()\n",
    "embeddings = bgeEmbeddings()\n",
    "embeddings = hydeEmbedder(embeddings)\n",
    "data = json_dataloader()\n",
    "documents = []\n",
    "loader = DataFrameLoader(data, page_content_column=\"text\")\n",
    "documents.extend(loader.load())\n",
    "#Create a vector store\n",
    "# db = Chroma.Chroma(\"Langchain collection\",embeddings)\n",
    "db = Chroma.Chroma.from_documents(documents,embeddings)"
   ]
  },
  {
   "cell_type": "code",
   "execution_count": 39,
   "metadata": {},
   "outputs": [],
   "source": [
    "retriever = db.as_retriever(search_kwargs={\"k\": 7})"
   ]
  },
  {
   "cell_type": "code",
   "execution_count": 40,
   "metadata": {},
   "outputs": [
    {
     "name": "stderr",
     "output_type": "stream",
     "text": [
      "/home/mbhatti/miniconda3/envs/llama/lib/python3.11/site-packages/umap/umap_.py:1945: UserWarning: n_jobs value 1 overridden to 1 by setting random_state. Use no seed for parallelism.\n",
      "  warn(f\"n_jobs value {self.n_jobs} overridden to 1 by setting random_state. Use no seed for parallelism.\")\n"
     ]
    }
   ],
   "source": [
    "import umap\n",
    "import numpy as np\n",
    "from tqdm import tqdm\n",
    "docs = data.text.tolist()\n",
    "vectors = embeddings.embed_documents(docs)\n",
    "umap_transformer = umap.UMAP(random_state=0, transform_seed=0).fit(vectors)"
   ]
  },
  {
   "cell_type": "code",
   "execution_count": 41,
   "metadata": {},
   "outputs": [],
   "source": [
    "def umap_embed(vectors, umap_transformer):\n",
    "    umap_embeddings = np.array([umap_transformer.transform([vector])[0] for vector in tqdm(vectors)])\n",
    "    return umap_embeddings"
   ]
  },
  {
   "cell_type": "code",
   "execution_count": 42,
   "metadata": {},
   "outputs": [
    {
     "name": "stderr",
     "output_type": "stream",
     "text": [
      "100%|██████████| 200/200 [02:18<00:00,  1.45it/s]\n"
     ]
    }
   ],
   "source": [
    "\n",
    "global_embeddings = umap_embed(vectors, umap_transformer)"
   ]
  },
  {
   "cell_type": "code",
   "execution_count": 43,
   "metadata": {},
   "outputs": [
    {
     "data": {
      "text/plain": [
       "array([[ 1.75623202e+00,  5.52898216e+00],\n",
       "       [ 7.72829723e+00,  3.00102562e-01],\n",
       "       [ 7.02126074e+00, -1.08364999e+00],\n",
       "       [ 9.09053516e+00,  2.41304469e+00],\n",
       "       [ 6.51023817e+00,  2.78219628e+00],\n",
       "       [ 5.53438568e+00,  2.14747667e-01],\n",
       "       [ 5.94207668e+00, -1.57304645e-01],\n",
       "       [ 3.89509583e+00,  9.31167781e-01],\n",
       "       [ 5.27059937e+00,  3.55996668e-01],\n",
       "       [ 9.33876991e+00,  1.24693084e+00],\n",
       "       [ 1.09657097e+00,  5.03150463e+00],\n",
       "       [ 1.09657097e+00,  5.03150463e+00],\n",
       "       [ 8.78105736e+00, -1.29177943e-01],\n",
       "       [ 8.23951435e+00, -6.84069172e-02],\n",
       "       [ 6.11398077e+00, -5.00663519e-01],\n",
       "       [ 7.67764521e+00,  2.36316061e+00],\n",
       "       [ 2.77765322e+00, -5.30046523e-01],\n",
       "       [ 7.12062883e+00,  3.36534452e+00],\n",
       "       [ 3.82099247e+00, -7.99102545e-01],\n",
       "       [ 7.84689379e+00,  2.24708605e+00],\n",
       "       [ 6.05871868e+00, -1.58214062e-01],\n",
       "       [ 1.70287693e+00,  5.08224869e+00],\n",
       "       [ 5.50630474e+00,  1.41156081e-03],\n",
       "       [ 5.19429159e+00,  2.96423256e-01],\n",
       "       [ 4.20473957e+00,  2.38075197e-01],\n",
       "       [ 3.94593167e+00,  1.27557433e+00],\n",
       "       [ 9.24996853e+00,  9.62265015e-01],\n",
       "       [ 6.17414999e+00,  1.38961375e+00],\n",
       "       [ 8.04059219e+00,  6.23018622e-01],\n",
       "       [ 5.19907045e+00,  1.21842837e+00],\n",
       "       [ 1.65574849e+00,  5.59495687e+00],\n",
       "       [ 7.47754288e+00,  8.60808134e-01],\n",
       "       [ 7.83066368e+00,  6.13521576e+00],\n",
       "       [ 7.82119799e+00,  6.12671185e+00],\n",
       "       [ 7.83000469e+00,  6.12257481e+00],\n",
       "       [ 5.05527925e+00,  1.03281653e+00],\n",
       "       [ 7.05761576e+00,  3.51379800e+00],\n",
       "       [ 8.24733734e+00,  7.40845561e-01],\n",
       "       [ 8.91115284e+00,  3.82725537e-01],\n",
       "       [ 8.16209984e+00, -1.21375787e+00],\n",
       "       [ 3.85562778e+00,  1.38996947e+00],\n",
       "       [ 7.77238607e+00,  6.16226578e+00],\n",
       "       [ 7.99846172e+00,  5.59052372e+00],\n",
       "       [ 6.39576769e+00, -3.53499979e-01],\n",
       "       [ 3.96587777e+00,  1.53243828e+00],\n",
       "       [ 3.96587777e+00,  1.53243828e+00],\n",
       "       [ 9.12469292e+00,  4.81610775e-01],\n",
       "       [ 9.31110096e+00,  2.16824102e+00],\n",
       "       [ 4.25635910e+00,  2.13261628e+00],\n",
       "       [ 5.91350842e+00, -1.26616836e-01],\n",
       "       [ 9.23514938e+00,  2.23500299e+00],\n",
       "       [ 6.11609650e+00,  2.36412597e+00],\n",
       "       [ 2.76157117e+00, -4.82704282e-01],\n",
       "       [ 6.04977942e+00,  2.06530857e+00],\n",
       "       [ 8.61225033e+00,  3.67650330e-01],\n",
       "       [ 7.71013689e+00,  6.23788548e+00],\n",
       "       [ 8.89629841e+00,  1.83020324e-01],\n",
       "       [ 8.14192772e+00,  2.73334908e+00],\n",
       "       [ 7.79787588e+00,  6.13158369e+00],\n",
       "       [ 6.66364861e+00, -6.00946128e-01],\n",
       "       [ 7.92583275e+00,  1.88967454e+00],\n",
       "       [ 8.06653214e+00,  3.07307863e+00],\n",
       "       [ 1.65574849e+00,  5.59495687e+00],\n",
       "       [ 7.47735929e+00, -1.41139770e+00],\n",
       "       [ 6.21574545e+00, -4.87007171e-01],\n",
       "       [ 7.17557764e+00, -1.27765071e+00],\n",
       "       [ 8.09546566e+00,  1.18473506e+00],\n",
       "       [ 2.72711372e+00, -4.24146146e-01],\n",
       "       [ 6.10148239e+00,  3.32561255e+00],\n",
       "       [ 5.93417263e+00,  2.14209962e+00],\n",
       "       [ 6.21791792e+00, -2.23154724e-01],\n",
       "       [ 2.84191418e+00, -6.33646131e-01],\n",
       "       [ 7.98784542e+00, -1.31483519e+00],\n",
       "       [ 9.45385361e+00,  9.66194928e-01],\n",
       "       [ 2.84191418e+00, -6.33646131e-01],\n",
       "       [ 6.70821714e+00,  3.26796031e+00],\n",
       "       [ 3.37243700e+00,  1.16682231e+00],\n",
       "       [ 7.94870567e+00,  1.91365385e+00],\n",
       "       [ 4.82808542e+00,  1.96845388e+00],\n",
       "       [ 6.72091961e+00, -2.22774014e-01],\n",
       "       [ 7.67040777e+00,  6.25853968e+00],\n",
       "       [ 6.62954807e+00,  1.59994102e+00],\n",
       "       [ 5.89549589e+00, -3.29098791e-01],\n",
       "       [ 7.21942472e+00,  6.81599021e-01],\n",
       "       [ 9.23141956e+00,  1.17421579e+00],\n",
       "       [ 7.72006226e+00,  3.33273625e+00],\n",
       "       [ 5.41255426e+00,  9.39746737e-01],\n",
       "       [ 7.53392124e+00,  7.60969043e-01],\n",
       "       [ 2.94546747e+00, -7.15195537e-01],\n",
       "       [ 6.86191225e+00,  3.28173208e+00],\n",
       "       [ 7.81231117e+00, -1.50213087e+00],\n",
       "       [ 5.12864637e+00,  1.09191787e+00],\n",
       "       [ 3.76444936e+00, -7.86334157e-01],\n",
       "       [ 9.28199387e+00,  9.99098599e-01],\n",
       "       [ 7.39006996e+00,  2.00904036e+00],\n",
       "       [ 4.82951260e+00,  3.20827055e+00],\n",
       "       [ 8.25954533e+00, -7.05053508e-01],\n",
       "       [ 7.45780087e+00, -1.37224066e+00],\n",
       "       [ 9.28799534e+00,  1.22741222e+00],\n",
       "       [ 5.71050835e+00, -1.99749619e-01],\n",
       "       [ 6.88604259e+00,  5.34852791e+00],\n",
       "       [ 6.14703512e+00, -2.98569620e-01],\n",
       "       [ 4.67466354e+00,  1.20614183e+00],\n",
       "       [ 8.11027527e+00,  2.65889502e+00],\n",
       "       [ 2.94546747e+00, -7.15195537e-01],\n",
       "       [ 5.51568508e+00,  3.25791097e+00],\n",
       "       [ 2.67768145e+00, -6.87011629e-02],\n",
       "       [ 2.74019432e+00, -4.51003343e-01],\n",
       "       [ 9.32819080e+00,  2.01499057e+00],\n",
       "       [ 5.57244444e+00, -8.04997757e-02],\n",
       "       [ 6.00314903e+00,  1.97544861e+00],\n",
       "       [ 8.00331497e+00,  5.71973085e-01],\n",
       "       [ 1.11237228e+00,  5.03385401e+00],\n",
       "       [ 7.96524143e+00, -4.28800792e-01],\n",
       "       [ 6.18639708e+00,  3.27343225e+00],\n",
       "       [ 9.38227558e+00,  1.92818928e+00],\n",
       "       [ 9.28766346e+00,  2.05963039e+00],\n",
       "       [ 7.99224949e+00,  9.69658375e-01],\n",
       "       [ 7.25759268e+00,  3.15551448e+00],\n",
       "       [ 5.91130447e+00, -2.27162719e-01],\n",
       "       [ 9.07590294e+00,  4.47888494e-01],\n",
       "       [ 9.23977375e+00,  7.08776414e-01],\n",
       "       [ 5.38367796e+00,  3.24551916e+00],\n",
       "       [ 5.85055351e+00,  3.24252200e+00],\n",
       "       [ 6.53518343e+00,  3.54320121e+00],\n",
       "       [ 5.94785690e+00, -5.45136392e-01],\n",
       "       [ 8.91065788e+00,  2.74457598e+00],\n",
       "       [ 7.65988302e+00,  3.39248395e+00],\n",
       "       [ 8.26711655e+00, -2.93082654e-01],\n",
       "       [ 7.28161716e+00,  2.47771597e+00],\n",
       "       [ 5.79424238e+00, -1.67678803e-01],\n",
       "       [ 3.09593558e+00, -8.90620708e-01],\n",
       "       [ 7.14131832e+00, -1.19776201e+00],\n",
       "       [ 5.90873051e+00, -1.26269162e-01],\n",
       "       [ 5.82243586e+00, -3.58018160e-01],\n",
       "       [ 5.77677488e+00, -1.04633071e-01],\n",
       "       [ 7.14918566e+00,  2.62163341e-01],\n",
       "       [ 6.43876362e+00, -7.07134545e-01],\n",
       "       [ 3.96587777e+00,  1.53243828e+00],\n",
       "       [ 3.52028823e+00,  1.36135626e+00],\n",
       "       [ 7.75714827e+00,  5.11962891e+00],\n",
       "       [ 5.69632483e+00, -3.93650234e-01],\n",
       "       [ 5.83592176e+00, -1.15525685e-01],\n",
       "       [ 5.16590738e+00,  3.23738194e+00],\n",
       "       [ 8.32204247e+00, -3.78528275e-02],\n",
       "       [ 5.79556227e+00, -1.23113364e-01],\n",
       "       [ 5.78515196e+00, -1.76386535e-01],\n",
       "       [ 2.66721463e+00,  3.37427765e-01],\n",
       "       [ 5.01251364e+00,  3.15800023e+00],\n",
       "       [ 5.14642715e+00,  1.32367218e+00],\n",
       "       [ 5.08683109e+00, -4.32556942e-02],\n",
       "       [ 5.89943457e+00,  2.00687790e+00],\n",
       "       [ 6.39139700e+00,  1.37609398e+00],\n",
       "       [ 9.28572559e+00,  1.39075601e+00],\n",
       "       [ 7.47400427e+00,  3.47256017e+00],\n",
       "       [ 5.16252661e+00,  1.24931288e+00],\n",
       "       [ 6.75913763e+00,  2.04385853e+00],\n",
       "       [ 7.45509815e+00, -1.40003657e+00],\n",
       "       [ 4.10115290e+00,  2.62277985e+00],\n",
       "       [ 5.89694166e+00, -8.91109407e-02],\n",
       "       [ 5.35515833e+00,  9.94462430e-01],\n",
       "       [ 5.14439249e+00,  3.23416519e+00],\n",
       "       [ 8.36777687e+00, -6.10254228e-01],\n",
       "       [ 5.16176939e+00,  3.86133075e-01],\n",
       "       [ 8.53786945e+00,  2.83606100e+00],\n",
       "       [ 5.14506340e+00,  3.26303816e+00],\n",
       "       [ 5.60955572e+00,  3.24953222e+00],\n",
       "       [ 6.48341274e+00,  1.49891138e+00],\n",
       "       [ 2.66125417e+00,  3.60262305e-01],\n",
       "       [ 2.64130449e+00,  1.89299360e-01],\n",
       "       [ 5.13100529e+00,  1.19588065e+00],\n",
       "       [ 3.02264881e+00,  7.17415094e-01],\n",
       "       [ 5.16489601e+00,  1.18325269e+00],\n",
       "       [ 5.56863880e+00,  9.50938106e-01],\n",
       "       [ 2.66125417e+00,  3.60262305e-01],\n",
       "       [ 7.20218039e+00,  1.84938633e+00],\n",
       "       [ 4.66331196e+00,  4.66599703e-01],\n",
       "       [ 6.90364027e+00,  3.30261898e+00],\n",
       "       [ 3.01759338e+00,  7.17450380e-01],\n",
       "       [ 7.89474106e+00,  3.43084431e+00],\n",
       "       [ 6.65343952e+00, -7.80901909e-01],\n",
       "       [ 4.71713972e+00, -5.70534728e-02],\n",
       "       [ 2.64954567e+00,  2.39807069e-01],\n",
       "       [ 5.90576887e+00, -2.94640362e-01],\n",
       "       [ 6.86141443e+00,  3.25582051e+00],\n",
       "       [ 4.96394300e+00,  1.27611566e+00],\n",
       "       [ 1.65574849e+00,  5.59495687e+00],\n",
       "       [ 3.03665185e+00,  7.14267552e-01],\n",
       "       [ 6.18957996e+00,  1.30244601e+00],\n",
       "       [ 4.11575651e+00, -7.34482944e-01],\n",
       "       [ 6.71310425e+00,  3.28371263e+00],\n",
       "       [ 3.50456357e+00, -9.89260912e-01],\n",
       "       [ 5.89471006e+00, -2.18300015e-01],\n",
       "       [ 8.13514042e+00,  6.07020438e-01],\n",
       "       [ 6.24462175e+00, -3.97916794e-01],\n",
       "       [ 6.78009605e+00, -8.18786681e-01],\n",
       "       [ 4.70949650e+00,  1.06528103e+00],\n",
       "       [ 8.13589954e+00,  1.20927870e+00],\n",
       "       [ 9.39003372e+00,  1.74971700e+00],\n",
       "       [ 1.62875748e+00,  5.04432392e+00]], dtype=float32)"
      ]
     },
     "execution_count": 43,
     "metadata": {},
     "output_type": "execute_result"
    }
   ],
   "source": [
    "global_embeddings"
   ]
  },
  {
   "cell_type": "code",
   "execution_count": 44,
   "metadata": {},
   "outputs": [
    {
     "data": {
      "text/plain": [
       "(0.6787068367004394, 9.871717739105225, -1.8901643931865693, 6.646573203802109)"
      ]
     },
     "execution_count": 44,
     "metadata": {},
     "output_type": "execute_result"
    },
    {
     "data": {
      "image/png": "[encoded data removed]",
      "text/plain": [
       "<Figure size 640x480 with 1 Axes>"
      ]
     },
     "metadata": {},
     "output_type": "display_data"
    }
   ],
   "source": [
    "import matplotlib.pyplot as plt\n",
    "\n",
    "plt.figure()\n",
    "plt.scatter(global_embeddings[:, 0], global_embeddings[:, 1], s=10)\n",
    "plt.gca().set_aspect('equal', 'datalim')\n",
    "plt.title('Embeddings')\n",
    "plt.axis('off')"
   ]
  },
  {
   "cell_type": "code",
   "execution_count": 45,
   "metadata": {},
   "outputs": [],
   "source": [
    "def calc_global_embeddings(query, embeddings, retriever, umap_transformer, embed_function, global_embeddings):\n",
    "    q_embedding = embeddings.embed_query(query)\n",
    "\n",
    "    docs = retriever.get_relevant_documents(query)\n",
    "    # print(docs)\n",
    "    page_contents = [doc.page_content for doc in docs]\n",
    "    vectors_content_vectors = embeddings.embed_documents(page_contents)\n",
    "\n",
    "    query_embeddings = embed_function([q_embedding], umap_transformer)\n",
    "    retrieved_embeddings = embed_function(vectors_content_vectors, umap_transformer)\n",
    "\n",
    "    plt.figure()\n",
    "    plt.scatter(global_embeddings[:, 0], global_embeddings[:, 1], s=10, color='gray')\n",
    "    plt.scatter(query_embeddings[:, 0], query_embeddings[:, 1], s=150, marker='X', color='r')\n",
    "    plt.scatter(retrieved_embeddings[:, 0], retrieved_embeddings[:, 1], s=50, facecolors='none', edgecolors='g')\n",
    "    plt.gca().set_aspect('equal', 'datalim')\n",
    "    plt.title(f'{query}')\n",
    "    plt.axis('off')\n",
    "    plt.show()"
   ]
  },
  {
   "cell_type": "code",
   "execution_count": 48,
   "metadata": {},
   "outputs": [
    {
     "name": "stderr",
     "output_type": "stream",
     "text": [
      "100%|██████████| 1/1 [00:00<00:00,  1.53it/s]\n",
      "100%|██████████| 7/7 [00:04<00:00,  1.40it/s]\n"
     ]
    },
    {
     "data": {
      "image/png": "[encoded data removed]",
      "text/plain": [
       "<Figure size 640x480 with 1 Axes>"
      ]
     },
     "metadata": {},
     "output_type": "display_data"
    }
   ],
   "source": [
    "calc_global_embeddings(\"Which locations received a flood warning?\", embeddings, retriever, umap_transformer, umap_embed, global_embeddings)\n"
   ]
  }
 ],
 "metadata": {
  "kernelspec": {
   "display_name": "llama",
   "language": "python",
   "name": "python3"
  },
  "language_info": {
   "codemirror_mode": {
    "name": "ipython",
    "version": 3
   },
   "file_extension": ".py",
   "mimetype": "text/x-python",
   "name": "python",
   "nbconvert_exporter": "python",
   "pygments_lexer": "ipython3",
   "version": "3.11.7"
  }
 },
 "nbformat": 4,
 "nbformat_minor": 2
}
