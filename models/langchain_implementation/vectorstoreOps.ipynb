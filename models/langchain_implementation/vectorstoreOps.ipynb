{
 "cells": [
  {
   "cell_type": "code",
   "execution_count": 1,
   "metadata": {},
   "outputs": [
    {
     "name": "stderr",
     "output_type": "stream",
     "text": [
      "/home/mbhatti/miniconda3/envs/llama/lib/python3.11/site-packages/tqdm/auto.py:21: TqdmWarning: IProgress not found. Please update jupyter and ipywidgets. See https://ipywidgets.readthedocs.io/en/stable/user_install.html\n",
      "  from .autonotebook import tqdm as notebook_tqdm\n"
     ]
    }
   ],
   "source": [
    "import pandas as pd\n",
    "import pickle\n",
    "from langchain_community.vectorstores import chroma as Chroma\n",
    "from langchain_community.embeddings import HuggingFaceBgeEmbeddings\n",
    "from langchain_core.vectorstores import VectorStoreRetriever\n",
    "from langchain_community.document_loaders import DataFrameLoader\n",
    "from langchain.indexes import SQLRecordManager, index\n",
    "from langchain_core.documents import Document\n",
    "import json\n",
    "from Text_preprocessing import Text_preprocessing\n",
    "from sentence_transformers import SentenceTransformer\n",
    "from chromadb.utils import embedding_functions \n",
    "from langchain.embeddings import SentenceTransformerEmbeddings"
   ]
  },
  {
   "cell_type": "code",
   "execution_count": 68,
   "metadata": {},
   "outputs": [],
   "source": [
    "#FSD_1555\n",
    "dataPath = \"/home/mbhatti/mnt/d/LLM-repo1/models/langchain_implementation/fsd_1555_Japan_06_15.pkl\"\n",
    "dateFrom = \"2023-06-01 06:00:00+00:00\" \n",
    "dateTo = \"2023-06-01 13:00:00+00:00\" \n",
    "\n",
    "# Loading pandas dataframe from picke file\n",
    "with open(dataPath, 'rb') as f:\n",
    "    data = pickle.load(f)\n",
    "\n",
    "df = pd.DataFrame(data)\n",
    "df['date'] = pd.to_datetime(df['date'])\n",
    "# df = df.drop(columns=['id','tag_class', 'source', 'lang', 'urls','locations'])\n",
    "\n",
    "#Get data between thresholds\n",
    "threshold_datetime_lower = pd.to_datetime(dateFrom)\n",
    "threshold_datetime_upper = pd.to_datetime(dateTo)\n",
    "df = df[df['date'] >= threshold_datetime_lower]\n",
    "df = df[df['date'] <= threshold_datetime_upper]\n",
    "\n",
    "#Remove duplicates\n",
    "df_new  = df.drop_duplicates(subset=[\"text\"], keep=False)\n",
    "\n",
    "#Covert date to string\n",
    "df['date'] = df['date'].astype(str)\n",
    "data = df"
   ]
  },
  {
   "cell_type": "code",
   "execution_count": 14,
   "metadata": {},
   "outputs": [],
   "source": [
    "##FSD_1777\n",
    "dataPath = \"/home/mbhatti/mnt/d/LLM-repo1/models/langchain_implementation/FSD1777_Oct23.json\"\n",
    "dateFrom = \"2023-10-19T09:00:00+00:00\" #2023-10-19T18:58:41Z for 200 tweets\n",
    "dateTo = \"2023-10-19T18:00:00+00:00\"\n",
    "\n",
    "\"\"\"Load relevant fields of flood tags api json response\"\"\"\n",
    "def json_dataloader(dataPath = dataPath, dateFrom = dateFrom, dateTo = dateTo):\n",
    "    # Load json and extract relevant records in pandas df\n",
    "    with open(dataPath, 'r') as json_file:\n",
    "        response_dict = json.load(json_file)\n",
    "\n",
    "    # Convert to pandas df    \n",
    "    pd.set_option('display.max_colwidth', None)\n",
    "    df = pd.DataFrame(response_dict)\n",
    "    df['date'] = pd.to_datetime(df['date'])\n",
    "    df = df.drop(columns=['id','tag_class', 'source', 'lang', 'urls','locations'])\n",
    "\n",
    "    #Get data between thresholds\n",
    "    threshold_datetime_lower = pd.to_datetime(dateFrom)\n",
    "    threshold_datetime_upper = pd.to_datetime(dateTo)\n",
    "    df = df[df['date'] >= threshold_datetime_lower]\n",
    "    df = df[df['date'] <= threshold_datetime_upper]\n",
    "\n",
    "    #Remove duplicates\n",
    "    df  = df.drop_duplicates(subset=[\"text\"], keep=False)\n",
    "    #Pre-process\n",
    "    preprocess = Text_preprocessing(df)\n",
    "    df = preprocess.preprocess()\n",
    "    #Covert date to string\n",
    "    df['date'] = df['date'].astype(str)\n",
    "    return df\n",
    "\n",
    "# Load the data from source\n",
    "data = json_dataloader()\n"
   ]
  },
  {
   "cell_type": "code",
   "execution_count": 67,
   "metadata": {},
   "outputs": [
    {
     "data": {
      "text/html": [
       "<div>\n",
       "<style scoped>\n",
       "    .dataframe tbody tr th:only-of-type {\n",
       "        vertical-align: middle;\n",
       "    }\n",
       "\n",
       "    .dataframe tbody tr th {\n",
       "        vertical-align: top;\n",
       "    }\n",
       "\n",
       "    .dataframe thead th {\n",
       "        text-align: right;\n",
       "    }\n",
       "</style>\n",
       "<table border=\"1\" class=\"dataframe\">\n",
       "  <thead>\n",
       "    <tr style=\"text-align: right;\">\n",
       "      <th></th>\n",
       "      <th>date</th>\n",
       "      <th>text</th>\n",
       "    </tr>\n",
       "  </thead>\n",
       "  <tbody>\n",
       "    <tr>\n",
       "      <th>6817</th>\n",
       "      <td>2023-06-01 12:59:40+00:00</td>\n",
       "      <td>When I was a child, the flooding in Taida area was an annual event, but now, although it is often organized, I can't read what will happen if it falls locally.I'm just praying that it doesn't matter.</td>\n",
       "    </tr>\n",
       "    <tr>\n",
       "      <th>6818</th>\n",
       "      <td>2023-06-01 12:58:00+00:00</td>\n",
       "      <td>If a linear rainfall zone occurs, there is a risk that the amount of rain will increase locally.Watch out for landslides, low-land flooding, increased rivers and flooding in a wide range of areas from western to eastern Japan.</td>\n",
       "    </tr>\n",
       "    <tr>\n",
       "      <th>6819</th>\n",
       "      <td>2023-06-01 12:57:26+00:00</td>\n",
       "      <td>Warning for Typhoon 2 Approach According to the forecast of the Meteorological Agency, tomorrow 6/2-6/3 will be followed by a typhoon approach, and the rain wind will be stronger.Tomorrow, Yokohama will be the opening of the port commemoration day.It is very unfortunate, but safety is first.The flooding hazard map of Tokushima-ku.Please pay particular attention to the area along the river.</td>\n",
       "    </tr>\n",
       "    <tr>\n",
       "      <th>6820</th>\n",
       "      <td>2023-06-01 12:57:16+00:00</td>\n",
       "      <td>[Friday 2, fear of \"disaster-grade heavy rains\" possibility of a linear rainfall zone also evacuation mindset]tenkijp Although the strength of the typhoon began to weaken, the hopeful observation is that Tokyo is not as far as Kansai?All depends on the rainfall front line.</td>\n",
       "    </tr>\n",
       "    <tr>\n",
       "      <th>6821</th>\n",
       "      <td>2023-06-01 12:57:02+00:00</td>\n",
       "      <td>Until about 3.11, there was no news, there was no news, like the birth of Fujii Meiji!!It was just news to say that I think after 3.11... things happened too much;;I think I want to come to peace from around here from nuclear power plants and fuel and Kumamoto floods and corona and Russia... soon.</td>\n",
       "    </tr>\n",
       "    <tr>\n",
       "      <th>...</th>\n",
       "      <td>...</td>\n",
       "      <td>...</td>\n",
       "    </tr>\n",
       "    <tr>\n",
       "      <th>7371</th>\n",
       "      <td>2023-06-01 06:11:04+00:00</td>\n",
       "      <td>This is a colored rose for the first time.This looks like two masks.I checked it out.For the time being, the percentage of rainfall in Tokushima has decreased, but I hope that the areas affected by the typhoon are not damaged.</td>\n",
       "    </tr>\n",
       "    <tr>\n",
       "      <th>7372</th>\n",
       "      <td>2023-06-01 06:09:02+00:00</td>\n",
       "      <td>3 prefectures in the Tokai region are afraid of heavy rains for 3 days due to Typhoon No. 2 (Me-Tele (Nagoya TV)) #Yahoo News</td>\n",
       "    </tr>\n",
       "    <tr>\n",
       "      <th>7373</th>\n",
       "      <td>2023-06-01 06:08:47+00:00</td>\n",
       "      <td>I think that if it weren't for that, it would have been decided by Princess Flora or Mama Aya, but that's also Momo Tetsu.But it's also unusual.There was no damage to the fields of Minamata...I was quiet.</td>\n",
       "    </tr>\n",
       "    <tr>\n",
       "      <th>7374</th>\n",
       "      <td>2023-06-01 06:05:16+00:00</td>\n",
       "      <td>Check the Hazard Map In the northern part of Typhoon No. 2, it is expected that the front line activities in the south of Japan will become active, and in the three prefectures of the Tokai, it is expected that there will be very heavy rainfall with thunderstorms from tonight to three days.Please check the dangers of disasters in the area where you live in advance, and check the evacuation locations and methods.</td>\n",
       "    </tr>\n",
       "    <tr>\n",
       "      <th>7375</th>\n",
       "      <td>2023-06-01 06:01:47+00:00</td>\n",
       "      <td>In the next 36 hours, there are some predictions that will exceed 300mm.This diagram is only a computer prediction, and locally there may be more than that.Watch out for landslides, lowland flooding, increased rivers and flooding in a wide range from the Southwest Islands to Eastern Japan.</td>\n",
       "    </tr>\n",
       "  </tbody>\n",
       "</table>\n",
       "<p>559 rows × 2 columns</p>\n",
       "</div>"
      ],
      "text/plain": [
       "                           date  \\\n",
       "6817  2023-06-01 12:59:40+00:00   \n",
       "6818  2023-06-01 12:58:00+00:00   \n",
       "6819  2023-06-01 12:57:26+00:00   \n",
       "6820  2023-06-01 12:57:16+00:00   \n",
       "6821  2023-06-01 12:57:02+00:00   \n",
       "...                         ...   \n",
       "7371  2023-06-01 06:11:04+00:00   \n",
       "7372  2023-06-01 06:09:02+00:00   \n",
       "7373  2023-06-01 06:08:47+00:00   \n",
       "7374  2023-06-01 06:05:16+00:00   \n",
       "7375  2023-06-01 06:01:47+00:00   \n",
       "\n",
       "                                                                                                                                                                                                                                                                                                                                                                                                                                 text  \n",
       "6817                                                                                                                                                                                                                          When I was a child, the flooding in Taida area was an annual event, but now, although it is often organized, I can't read what will happen if it falls locally.I'm just praying that it doesn't matter.  \n",
       "6818                                                                                                                                                                                               If a linear rainfall zone occurs, there is a risk that the amount of rain will increase locally.Watch out for landslides, low-land flooding, increased rivers and flooding in a wide range of areas from western to eastern Japan.  \n",
       "6819                         Warning for Typhoon 2 Approach According to the forecast of the Meteorological Agency, tomorrow 6/2-6/3 will be followed by a typhoon approach, and the rain wind will be stronger.Tomorrow, Yokohama will be the opening of the port commemoration day.It is very unfortunate, but safety is first.The flooding hazard map of Tokushima-ku.Please pay particular attention to the area along the river.  \n",
       "6820                                                                                                                                                [Friday 2, fear of \"disaster-grade heavy rains\" possibility of a linear rainfall zone also evacuation mindset]tenkijp Although the strength of the typhoon began to weaken, the hopeful observation is that Tokyo is not as far as Kansai?All depends on the rainfall front line.  \n",
       "6821                                                                                                                       Until about 3.11, there was no news, there was no news, like the birth of Fujii Meiji!!It was just news to say that I think after 3.11... things happened too much;;I think I want to come to peace from around here from nuclear power plants and fuel and Kumamoto floods and corona and Russia... soon.  \n",
       "...                                                                                                                                                                                                                                                                                                                                                                                                                               ...  \n",
       "7371                                                                                                                                                                                               This is a colored rose for the first time.This looks like two masks.I checked it out.For the time being, the percentage of rainfall in Tokushima has decreased, but I hope that the areas affected by the typhoon are not damaged.  \n",
       "7372                                                                                                                                                                                                                                                                                                    3 prefectures in the Tokai region are afraid of heavy rains for 3 days due to Typhoon No. 2 (Me-Tele (Nagoya TV)) #Yahoo News  \n",
       "7373                                                                                                                                                                                                                     I think that if it weren't for that, it would have been decided by Princess Flora or Mama Aya, but that's also Momo Tetsu.But it's also unusual.There was no damage to the fields of Minamata...I was quiet.  \n",
       "7374  Check the Hazard Map In the northern part of Typhoon No. 2, it is expected that the front line activities in the south of Japan will become active, and in the three prefectures of the Tokai, it is expected that there will be very heavy rainfall with thunderstorms from tonight to three days.Please check the dangers of disasters in the area where you live in advance, and check the evacuation locations and methods.  \n",
       "7375                                                                                                                               In the next 36 hours, there are some predictions that will exceed 300mm.This diagram is only a computer prediction, and locally there may be more than that.Watch out for landslides, lowland flooding, increased rivers and flooding in a wide range from the Southwest Islands to Eastern Japan.  \n",
       "\n",
       "[559 rows x 2 columns]"
      ]
     },
     "execution_count": 67,
     "metadata": {},
     "output_type": "execute_result"
    }
   ],
   "source": [
    "data"
   ]
  },
  {
   "cell_type": "code",
   "execution_count": 19,
   "metadata": {},
   "outputs": [],
   "source": [
    "def bgeEmbeddings():\n",
    "    model_name = \"BAAI/bge-large-en-v1.5\"\n",
    "    model_kwargs = {'device': 'cuda'}\n",
    "    encode_kwargs = {'normalize_embeddings': True} # set True to compute cosine similarity\n",
    "    model = HuggingFaceBgeEmbeddings(\n",
    "        model_name=model_name,\n",
    "        model_kwargs=model_kwargs,\n",
    "        encode_kwargs=encode_kwargs\n",
    "    )\n",
    "    return model"
   ]
  },
  {
   "cell_type": "code",
   "execution_count": 24,
   "metadata": {},
   "outputs": [
    {
     "name": "stdout",
     "output_type": "stream",
     "text": [
      "REMOVE 1678 document(s) from langchain collection\n"
     ]
    }
   ],
   "source": [
    "embeddings = bgeEmbeddings()\n",
    "\n",
    "# embeddings = SentenceTransformer('pkshatech/GLuCoSE-base-ja')\n",
    "# embeddings = embedding_functions.SentenceTransformerEmbeddingFunction(model_name=\"pkshatech/GLuCoSE-base-ja\")\n",
    "# embeddings = SentenceTransformerEmbeddings(model_name=\"pkshatech/GLuCoSE-base-ja\")\n",
    "\n",
    "documents = []\n",
    "loader = DataFrameLoader(data, page_content_column=\"text\")\n",
    "documents.extend(loader.load())\n",
    "#Create a vector store\n",
    "# db = Chroma.Chroma(\"Langchain collection\",embeddings)\n",
    "db = Chroma.Chroma.from_documents(documents,\n",
    "                                  embeddings)\n",
    "if db._client.list_collections() != None:\n",
    "\n",
    "  for collection in db._client.list_collections():\n",
    "    ids = collection.get()['ids']\n",
    "    print('REMOVE %s document(s) from %s collection' % (str(len(ids)), collection.name))\n",
    "    if len(ids): collection.delete(ids)\n",
    "\n",
    "db = Chroma.Chroma.from_documents(documents,\n",
    "                                  embeddings)"
   ]
  },
  {
   "cell_type": "code",
   "execution_count": 25,
   "metadata": {},
   "outputs": [
    {
     "data": {
      "text/plain": [
       "559"
      ]
     },
     "execution_count": 25,
     "metadata": {},
     "output_type": "execute_result"
    }
   ],
   "source": [
    "# Get all embeddings\n",
    "len(db._collection.get()['ids'])\n"
   ]
  },
  {
   "cell_type": "code",
   "execution_count": 41,
   "metadata": {},
   "outputs": [],
   "source": [
    "retriever = db.as_retriever(search_kwargs={'k': 60})"
   ]
  },
  {
   "cell_type": "code",
   "execution_count": 47,
   "metadata": {},
   "outputs": [],
   "source": [
    "query = \"\"\"Where areas are likely to receive flood warnings due to heavy rain?\"\"\"\n",
    "docs = retriever.get_relevant_documents(query=query)\n"
   ]
  },
  {
   "cell_type": "code",
   "execution_count": 60,
   "metadata": {},
   "outputs": [
    {
     "data": {
      "text/plain": [
       "[Document(page_content='\"Linear rainfall zone prediction information\" in Shikoku and China Regions The risk of heavy rainfall disaster is likely to rise sharply from morning to night on the 2nd day Watch for landslides, flooding, increased flooding and flooding of rivers (television Kochi) #Yahoo News', metadata={'date': '2023-06-01 07:36:12+00:00'}),\n",
       " Document(page_content='\"Linear rainfall zone prediction information\" in Shikoku and China Regions The risk of heavy rainfall disaster is likely to rise sharply from morning to night on the 2nd day Watch for landslides, flooding, increased flooding and flooding of rivers (television Kochi) #Yahoo News', metadata={'date': '2023-06-01 07:57:46+00:00'}),\n",
       " Document(page_content='The weather agency has announced that the risk of heavy rainfall disasters could rise sharply tomorrow when a linear rainfall zone occurs in the Shikoku and China regions.For the first time this year, the forecast information of the linear rainfall zone will be published, and strict vigilance is required for landslides and flooding of rivers. #The weather agency #Linear rainfall zone #China region #Shikoku #Rainfall #Strict vigilance', metadata={'date': '2023-06-01 08:49:58+00:00'}),\n",
       " Document(page_content=\"Warning of high waves and high tides in the southwestern islands, and warning of storms. warning of landslides, lowland flooding, and increased flooding of rivers in a wide area from west to east Japan. warning of linear rainfall zones in China's four provinces during the morning to night of the two days, and the risk of heavy rainfall disasters is rapidly increasing.\", metadata={'date': '2023-06-01 11:32:25+00:00'}),\n",
       " Document(page_content='Also, watch out for landslides, low-land flooding, increased rivers and flooding in a wide range of areas from western to eastern Japan.In China and Shikoku regions, the risk of heavy rainfall can rise rapidly due to the occurrence of linear rainfall zones between the morning and evening of two days.', metadata={'date': '2023-06-01 08:02:55+00:00'}),\n",
       " Document(page_content='Warning of heavy rains outside Shikoku region, China Warning of heavy rains outside Shikoku region, China Warning of heavy rains outside Shikoku region, China Warning of heavy rains outside Shikoku region, Japan Warning of heavy rains outside Shikoku region, Japan Warning of heavy rains outside Shikoku region, Japan Warning of heavy rains outside Shikoku region, Japan Warning of heavy rains outside Shikoku region, Japan Warning of heavy rains outside Shikoku Region, Japan Warning of heavy rains outside Shikoku Region, Japan Warning of heavy rains outside Shikoku Region, Japan Warning of heavy rains outside Shikoku Region, Japan Warning of heavy rains outside Shikoku Region, Japan Warning of heavy rains outside Shikoku Region, Japan Warning of heavy rains outside Shikoku Region, Japan Warning', metadata={'date': '2023-06-01 11:37:39+00:00'}),\n",
       " Document(page_content=\"Beware of heavy rains From dawn until nightfall, it is possible to have a warning-grade heavy rain.Beware of low-lying lands and increasing rivers.Check your area's hazard map before the rain winds become strong.Make a disaster-preparedness effort.Read Hyogo Prefecture's hazard map here\", metadata={'date': '2023-06-01 08:22:08+00:00'}),\n",
       " Document(page_content='[Rainstorm] Forecast of Rainstorm Warning Announcement on the afternoon of the 2nd day Warning of landslides, flooding, and increased river flooding in Kyoto, Shiga', metadata={'date': '2023-06-01 10:06:28+00:00'}),\n",
       " Document(page_content='[Kyoto, Shiga] On the afternoon of the 2nd, there will be a large rain warning, and people will be alert to landslides, flooding, and increased rivers.', metadata={'date': '2023-06-01 12:49:49+00:00'}),\n",
       " Document(page_content='[Warning about heavy rains] In the northwestern part of Chiba Prefecture, there is a risk of heavy rains from June 2 to June 3.Beware of earthquakes, landslides, low-lying landslides, and increased flooding of rivers.Check the hazard map and the means of obtaining evacuation information in advance, and check the necessary preparations once again.', metadata={'date': '2023-06-01 08:05:00+00:00'}),\n",
       " Document(page_content='There is a need for strict vigilance in the event of earthquakes and flooding of rivers.It is expected that there will be heavy rainfall from western Japan to eastern Japan in a wide range of areas outside the Shikoku region and China tomorrow.', metadata={'date': '2023-06-01 08:40:16+00:00'}),\n",
       " Document(page_content='[Tokyo weather information on heavy rain, high waves and thunderstorms] June 1, 16:44 In the Tokyo region and the Izu Islands, for two to three days, there may be a warning-level heavy rain.Be careful and watch out for earthquakes, low-lying landslides, and increased rivers.In the Izu Islands...', metadata={'date': '2023-06-01 07:46:10+00:00'}),\n",
       " Document(page_content='Beware of low-land flooding, increased rivers and flooding.In China and Sichuan provinces, the risk of heavy rainfall can rise sharply due to the occurrence of linear rainfall zones between the morning and night of the 2nd day....', metadata={'date': '2023-06-01 08:05:40+00:00'}),\n",
       " Document(page_content='In China and the Shikoku region, on the next two days, there will be a linear rainfall zone, and the risk of major rainfall disasters will rise dramatically. Beware of landslides, low-lying landslides, increased rivers, and flooding. In the Pacific side of the Shikoku region, there are many places where very heavy rains of 70 millimeters per hour are expected.', metadata={'date': '2023-06-01 07:22:59+00:00'}),\n",
       " Document(page_content='Tomorrow, there will be heavy rain forecasts around midnight in Nerima Ward.In Nerima Ward, we have opened a summary page to prepare for heavy rain.In order to prevent flooding, please also check the cleaning of side ditches and rainwater areas, the preparation of soil water stopping boards, and the hazard map for floods and landslides.', metadata={'date': '2023-06-01 09:37:31+00:00'}),\n",
       " Document(page_content=\"It's also important to watch out for fires, but it's a rainy season.It's also important to watch out for floods and landslides caused by heavy rain.It's expected to be heavy rain in Nagano Prefecture tomorrow.For those who are close to rivers, cliffs and steep slopes, please check your evacuation places and evacuation tools. #Nagano Prefecture #Togo City #Firemen's Unit #TOMIVFC0403\", metadata={'date': '2023-06-01 12:00:45+00:00'}),\n",
       " Document(page_content='[Information on Ehime, heavy rains and high waves] In Shikoku, the risk of heavy rains can rise rapidly due to the occurrence of a linear rainfall zone between the morning and evening of two days.In Ehime Prefecture, beware of landslides, flooding, increased rivers, and flooding.', metadata={'date': '2023-06-01 08:33:41+00:00'}),\n",
       " Document(page_content='Information on Typhoon No.2 #87: Beware of landslides, low-lying landslides, increased flooding and flooding of rivers.In China and Shikoku regions, the risk of heavy rainfall can rise rapidly due to the occurrence of linear precipitation zones between the morning and evening of the 2nd day (2/2)', metadata={'date': '2023-06-01 08:32:31+00:00'}),\n",
       " Document(page_content='To the citizens of Ningyagawa City, there will be heavy rainfall in Ningyagawa City tomorrow, depending on the time.In some cases, there is a possibility that there will be a \"Rainstorm Warning\" (such as landslides and flooding) early in the morning.On the other hand, there is no prediction of a \"Rainstorm Warning\" order, which is the standard for school holidays....', metadata={'date': '2023-06-01 10:23:13+00:00'}),\n",
       " Document(page_content='In Chiba Prefecture, due to the influence of the front line, there will be places where very heavy rains will fall over the next three days from the beginning of the night to the end of the day.Beware of landslides, low-lying landslides, increased flooding and flooding of rivers.Please carefully check the information provided by the Meteorological Agency\\'s \"Kikikul\" hazard distribution.', metadata={'date': '2023-06-01 08:39:09+00:00'}),\n",
       " Document(page_content='2/2 【Report on Typhoon No.2 of the Year 87】 Also, beware of landslides, low-lying landslides, increased flooding and flooding of rivers in a wide area from western to eastern Japan.In China and Shikoku regions, the risk of heavy rainfall can rise rapidly due to the occurrence of a linear rainfall zone between the morning and evening of the 2nd day.', metadata={'date': '2023-06-01 08:02:54+00:00'}),\n",
       " Document(page_content='In Shizuoka Prefecture, there is a danger that the total rainfall will reach 200-300 mm.Serious warning against road flooding, landslides, landslides, flooding of rivers!', metadata={'date': '2023-06-01 09:05:21+00:00'}),\n",
       " Document(page_content='[What is the risk of flooding in your area?] There is a risk of heavy rain in western and eastern Japan for 3 days Do you have a river or low land nearby?You can check the risk of flooding, flooding, landslides, and landslides at your home, company, school, commuter and school streets using the National Hazard Map.', metadata={'date': '2023-06-01 07:20:00+00:00'}),\n",
       " Document(page_content='[Tokyo weather information on heavy rain, high waves and thunderstorms] June 1 18:00-18:00 In the Tokyo region and the Izu Islands, there may be a warning-level heavy rain for two to three days.Be careful and watch out for earthquakes, low-lying landslides, and increased rivers.In the Izu Islands...', metadata={'date': '2023-06-01 09:20:09+00:00'}),\n",
       " Document(page_content='In Fukui Prefecture, if it rains badly, you might be alert to \"Concern on flooding of rivers and landslides\"!', metadata={'date': '2023-06-01 11:46:42+00:00'}),\n",
       " Document(page_content='The weather agency announced that the risk of heavy rainfall could rise sharply due to the occurrence of a linear rainfall zone between the morning and afternoon of the 2nd day in the Chinese and Shikoku regions. #Rainfall #Linear rainfall zone', metadata={'date': '2023-06-01 07:20:22+00:00'}),\n",
       " Document(page_content='In the Chinese and Shikoku regions, a \"linear rainfall zone\" may occur in the morning of the second day, and the risk of a disaster may rise sharply.Watch out for landslides and low-land flooding, and pay attention to information from local governments.', metadata={'date': '2023-06-01 10:31:03+00:00'}),\n",
       " Document(page_content='Emergency Information for Ehime Prefecture on Heavy Rains and High Waves Issue 2 June 01, 2023 16:51 Matsuyama Regional Meteorological Station Announcement In the Shikoku Region, the risk of heavy rain disasters is likely to rise sharply due to the occurrence of linear rainfall zones between the morning and evening of the 2nd day of June.In Ehime Prefecture, earthquakes, low-lying landslides, and...', metadata={'date': '2023-06-01 08:02:47+00:00'}),\n",
       " Document(page_content='Influence of Typhoon No. 2... Linear rainfall zone heavy rain warning worries. ☆In July-September 2022, Yamaguchi had more than 30 thunderstorms (&gt;_&lt;) ☆#Ministry of Transportation and Communications Disaster Prevention Information of the River ↓ #XRAIN should also be checked ☆You should also see the past heavy rainfall image tweet... ☆Beware of flooding even if there is no Linear rainfall zone. ☆Many dreadful communities + road flooding + unable to evacuate ↓ level', metadata={'date': '2023-06-01 09:00:18+00:00'}),\n",
       " Document(page_content='Please be aware of heavy rains (June 1st) Please be aware that information about heavy rains has been released from Niigata Regional Meteorological Station.At Nakaechi and Uechi, be careful and watch out for landslides, low-lying landslides, and increased rivers from day to night.', metadata={'date': '2023-06-01 08:58:02+00:00'}),\n",
       " Document(page_content='Forecast Information for \"linear rainfall zone\" in Shikoku and China The risk of major rainfall disasters is likely to rise sharply from morning to night on the 2nd day Warning against landslides, flooding, increased rivers and flooding (KUTV TV Kochi)', metadata={'date': '2023-06-01 07:36:40+00:00'}),\n",
       " Document(page_content='Forecast Information for \"linear rainfall zone\" in Shikoku and China The risk of major rainfall disasters is likely to rise sharply from morning to night on the 2nd day Warning against landslides, flooding, increased rivers and flooding (KUTV TV Kochi)', metadata={'date': '2023-06-01 07:28:56+00:00'}),\n",
       " Document(page_content='Beware of heavy rains In the future, especially over two days from midday to late night, earthquakes caused by heavy rains, low-land flooding, rivers, etc. ～Osaka Disaster Prevention Information Email ⇒Osaka Safety and Security Information #Osaka Prefecture #Disaster Prevention #Disaster Prevention #Warning', metadata={'date': '2023-06-01 09:16:42+00:00'}),\n",
       " Document(page_content='If a linear rainfall zone occurs, there is a risk that the amount of rain will increase locally.Watch out for landslides, low-land flooding, increased rivers and flooding in a wide range of areas from western to eastern Japan.', metadata={'date': '2023-06-01 12:58:00+00:00'}),\n",
       " Document(page_content='Beware of heavy rainstorms in the Kanto region tomorrow!Beware of flooding of rivers and increasing waterways due to linear rainfall zones!!', metadata={'date': '2023-06-01 06:34:11+00:00'}),\n",
       " Document(page_content='≪Local Information≫ [Shikoku Regional Weather Information Concerning Heavy Rains] In the Shikoku region, during the morning and evening of the 2nd day, there may be a linear rainfall zone and the risk of a heavy rainfall disaster may rise sharply.Beware of landslides, low-lying landslides, increased rivers and flooding.', metadata={'date': '2023-06-01 07:04:21+00:00'}),\n",
       " Document(page_content='Forecast information for \"linear rainfall zone\" in Shikoku and China From morning to night, the risk of heavy rainfall is likely to rise sharply \\\\ #Kochi #News #TVKochi #KUTVNews #KUTV #NEWSDIG', metadata={'date': '2023-06-01 07:25:35+00:00'}),\n",
       " Document(page_content='[Rainstorm] Forecast of Rainstorm Warning Announcement on the afternoon of the 2nd day Warning of landslides, flooding, and increased rivers in Kyoto, Shiga #kyoto', metadata={'date': '2023-06-01 12:15:01+00:00'}),\n",
       " Document(page_content='[What are the risks of flooding in your area?] Even in western and eastern Japan, there is a risk of heavy rain for three days.Do you have a river or lowland nearby?You can check the risks of flooding, flooding, landslides, and landslides in your home, company, school, commuter and school streets using the National Hazard Map.', metadata={'date': '2023-06-01 07:05:17+00:00'}),\n",
       " Document(page_content='[Friday 2, fear of \"disaster-grade heavy rains\" and the possibility of a linear rainfall zone to evacuate mindset] Typhoon 2 This evening ~Friday morning Closest to Okinawa main island Activation of Typhoon Northeast and Plum Front Widespread fear of heavy rains Warning of heavy rains in Kyushu ~ Kanto Koshin China, Shikoku region \"linear rainfall zone\" fear', metadata={'date': '2023-06-01 10:14:15+00:00'}),\n",
       " Document(page_content='In the area where I live, there was no major damage, but in the completely flooded towns, there seems to be a large number of people who are not able to return to their homes... Japan is also going to have a rainy season, and I hope that no damage will be caused by heavy rain...', metadata={'date': '2023-06-01 09:13:37+00:00'}),\n",
       " Document(page_content='[Beware of heavy rain] On Friday, 6th February, the night of tomorrow # heavy rain is expected.In order to prevent flooding into the house, please make the necessary preparations around you, such as cleaning the side ditches and rainwater, and preparing the soil and water stopping boards.Please check the weather information for the future on TV, radio, and the internet. #練馬区', metadata={'date': '2023-06-01 08:49:47+00:00'}),\n",
       " Document(page_content='[Extreme Rain Threat] In Saitama Prefecture, due to the front line and typhoon, there is a risk of heavy rainfall during the night and night of 2 to 3 days.The weather station has called for warning against earthquakes, low-lying landslides, and increased flooding of rivers. #NHK Saitama', metadata={'date': '2023-06-01 11:01:31+00:00'}),\n",
       " Document(page_content='In Shizuoka Prefecture, heavy rains and very heavy rains with thunderstorms are expected to occur from the morning of the 2nd to the 3rd of the day, and there are places where heavy rains will occur.It is expected that the sea will be turbulent during the 2nd to the 3rd of the day.Beware of landslides, low-lying landslides, increased flooding and flooding of rivers, and be careful and watch out for high waves with turbulent conditions.', metadata={'date': '2023-06-01 09:31:09+00:00'}),\n",
       " Document(page_content='16:01 on Jan. 01 [Shikoku Prefecture Weather Information on Heavy Rains] In Shikoku Prefecture, during the morning and evening of the 2nd day, there may be a linear rainfall zone, and the risk of heavy rain disasters may rise sharply.Beware of landslides, low-lying landslides, increased rivers and flooding. #Local Information', metadata={'date': '2023-06-01 07:05:06+00:00'}),\n",
       " Document(page_content='Influence of Typhoon No. 2...Dangerous Heavy Rain Concern ☆Retrieval of Disaster Prevention Information↓Checkpoints #Water Information Alert Email #626Danger: Yama鹿 1455.3mm, Kikuchigawa maximum water level 9m, Hundreds of thousands of households flooded, Most communications ceased=First emergency communications in Japan, Kumamoto volcanic ash mixed mud flow #Linear precipitation zone #September 2, 2016 Flood: #Kikuchigawa 7.85m ●Vertical evacuation will flow every house', metadata={'date': '2023-06-01 08:50:55+00:00'}),\n",
       " Document(page_content='A typhoon is approaching!Tomorrow, we need to be alert to strong rainfall in both Eastern and Western Japan during the day after dawn.We also need to be alert to flooding of rivers and landslides caused by heavy rainfall.We also need to be alert to over 100mm forecasts on a wide range and over 300mm locally.', metadata={'date': '2023-06-01 12:39:38+00:00'}),\n",
       " Document(page_content='[The danger of heavy rain in western and eastern Japan] Activities on the front line have been active.Even in western and eastern Japan, far away from the typhoon, there is a wide range of risk of heavy rain in the future.It may be necessary to evacuate.Please make sure that you pay attention to these things when evacuating by walking.', metadata={'date': '2023-06-01 09:30:31+00:00'}),\n",
       " Document(page_content='[Typhoon 2 approaches] There is a threat of very heavy rain in Oita Prefecture for two days. Beware of landslides and landslides. Beware of flooding of low land and increasing rivers.', metadata={'date': '2023-06-01 10:27:03+00:00'}),\n",
       " Document(page_content='Tomorrow, the Kanto region will be hit by the wet air of the typhoon and the front line of the rainy season.Be careful of the heavy rainstorms in the wilderness!Be careful of the flooding of rivers by the linear rainfall zone and the increase in waterways!!', metadata={'date': '2023-06-01 06:35:23+00:00'}),\n",
       " Document(page_content='[News Release] Meteorological Agency announces \"linear rainfall zone prediction information\" | ANN #linear rainfall zone \"There is a need to strictly guard against landslides and flooding of rivers\" \"Ash is expected to be heavy rainfall in a wide range from western Japan to eastern Japan except for the Shikoku region and China region\"', metadata={'date': '2023-06-01 07:41:44+00:00'}),\n",
       " Document(page_content=\"it's always a mystery...the elementary school in osaka prefecture has a school apart from the storm warning and earthquake disaster warning.even if there's a special rain warning and flood warning, there's a school even if there's a flood.\", metadata={'date': '2023-06-01 09:41:28+00:00'}),\n",
       " Document(page_content='≪Regional Information≫ [Regional Weather Information on Heavy Rains and High Waves in the Kinki Region] In the Kinki Region, it is expected that heavy rains and very heavy rains with local thunderstorms will fall from the beginning of the day to the middle of the morning of the third day.Watch out for landslides, low-land flooding, increased flooding and flooding of rivers from the afternoon of the second day until late at night.', metadata={'date': '2023-06-01 06:34:22+00:00'}),\n",
       " Document(page_content='[Continental Weather Information on Heavy Rains and High Waves] (June 01, 2023) In the Kinki region, heavy rains and very heavy rains with local thunderstorms are expected from the beginning of the day to the beginning of the night during the 3rd morning of the day.Beware of landslides, low-lying landslides, increased rivers, and flooding from the 2nd day to the late night.', metadata={'date': '2023-06-01 06:32:23+00:00'}),\n",
       " Document(page_content='[Ehime Prefecture Heavy Rain Information] Shikoku Prefecture is likely to increase the risk of disaster rapidly due to the occurrence of a linear rainfall zone between the morning and evening of the 2nd day.It is expected that there will be very heavy rainfall during the day with thunderstorms.The forecast rainfall up to tomorrow evening will be 150 mm.It is also possible that there will be more if a linear rainfall zone occurs.Beware of landslides, flooding of rivers and landslides.', metadata={'date': '2023-06-01 10:07:00+00:00'}),\n",
       " Document(page_content=\"JR announces scheduled shutdown Western Japan is devastated Don't move from tonight to tomorrow Typhoon and heavy rain in front of the plum rainfall disaster-grade rainfall 2 days at peak forecast rainfall for the first month of June 200 to 400 millimetres over Car movement is flooded, houses are flooded, rivers are flooded, waterways are flooded by artillery, landslides are flowing home Heavy wind and splashing rain warning potential big risk of life\", metadata={'date': '2023-06-01 11:43:54+00:00'}),\n",
       " Document(page_content='[Confirmation of the Hazard Map] [Introduction of the day before and night] A very heavy rain in Tokushima Prefecture We have been able to collect and list digital data of floods, landslides, and tsunamis from all over the country What is the risk of disaster in your area?', metadata={'date': '2023-06-01 09:28:13+00:00'}),\n",
       " Document(page_content='[Miyazaki Prefecture Meteorological Information on Heavy Rains] June 1, 16:00 In Miyazaki Prefecture, beware of landslides, low-land flooding, increased rivers and flooding from early on in the day.', metadata={'date': '2023-06-01 07:03:59+00:00'}),\n",
       " Document(page_content='[千葉情報] Prefecturewide, watch out for earthquakes, landslides, low-lying landslides, increased flooding and flooding of rivers, and high waves from late to late on the 2nd day and 3rd day. ◆ Heavy rain, thunderstorms, and thunderstorms In Chiba Prefecture, due to the front line, heavy rain followed by thunderstorms on the 2nd day and 3rd day, and from the beginning of the 2nd day and night, it seems that there are places where very heavy rain has fallen and heavy rain. Choshi', metadata={'date': '2023-06-01 08:29:44+00:00'}),\n",
       " Document(page_content='[Shikoku Prefecture Weather Information on Heavy Rains] In Shikoku Prefecture, during the morning and evening of the 2nd day, there may be a linear rainfall zone, and the risk of heavy rain disasters can increase rapidly.Beware of landslides, low-land flooding, increased rivers and flooding. #Shikoku Prefecture #Linear rainfall zone #Hayabusa', metadata={'date': '2023-06-01 07:10:59+00:00'})]"
      ]
     },
     "execution_count": 60,
     "metadata": {},
     "output_type": "execute_result"
    }
   ],
   "source": [
    "docs"
   ]
  },
  {
   "cell_type": "code",
   "execution_count": 65,
   "metadata": {},
   "outputs": [
    {
     "data": {
      "text/html": [
       "<div>\n",
       "<style scoped>\n",
       "    .dataframe tbody tr th:only-of-type {\n",
       "        vertical-align: middle;\n",
       "    }\n",
       "\n",
       "    .dataframe tbody tr th {\n",
       "        vertical-align: top;\n",
       "    }\n",
       "\n",
       "    .dataframe thead th {\n",
       "        text-align: right;\n",
       "    }\n",
       "</style>\n",
       "<table border=\"1\" class=\"dataframe\">\n",
       "  <thead>\n",
       "    <tr style=\"text-align: right;\">\n",
       "      <th></th>\n",
       "      <th>date</th>\n",
       "      <th>text</th>\n",
       "    </tr>\n",
       "  </thead>\n",
       "  <tbody>\n",
       "    <tr>\n",
       "      <th>7255</th>\n",
       "      <td>2023-06-01 07:57:46+00:00</td>\n",
       "      <td>\"Linear rainfall zone prediction information\" in Shikoku and China Regions The risk of heavy rainfall disaster is likely to rise sharply from morning to night on the 2nd day Watch for landslides, flooding, increased flooding and flooding of rivers (television Kochi) #Yahoo News</td>\n",
       "    </tr>\n",
       "    <tr>\n",
       "      <th>7280</th>\n",
       "      <td>2023-06-01 07:36:12+00:00</td>\n",
       "      <td>\"Linear rainfall zone prediction information\" in Shikoku and China Regions The risk of heavy rainfall disaster is likely to rise sharply from morning to night on the 2nd day Watch for landslides, flooding, increased flooding and flooding of rivers (television Kochi) #Yahoo News</td>\n",
       "    </tr>\n",
       "  </tbody>\n",
       "</table>\n",
       "</div>"
      ],
      "text/plain": [
       "                           date  \\\n",
       "7255  2023-06-01 07:57:46+00:00   \n",
       "7280  2023-06-01 07:36:12+00:00   \n",
       "\n",
       "                                                                                                                                                                                                                                                                                        text  \n",
       "7255  \"Linear rainfall zone prediction information\" in Shikoku and China Regions The risk of heavy rainfall disaster is likely to rise sharply from morning to night on the 2nd day Watch for landslides, flooding, increased flooding and flooding of rivers (television Kochi) #Yahoo News  \n",
       "7280  \"Linear rainfall zone prediction information\" in Shikoku and China Regions The risk of heavy rainfall disaster is likely to rise sharply from morning to night on the 2nd day Watch for landslides, flooding, increased flooding and flooding of rivers (television Kochi) #Yahoo News  "
      ]
     },
     "execution_count": 65,
     "metadata": {},
     "output_type": "execute_result"
    }
   ],
   "source": [
    "data[data['text'] =='\"Linear rainfall zone prediction information\" in Shikoku and China Regions The risk of heavy rainfall disaster is likely to rise sharply from morning to night on the 2nd day Watch for landslides, flooding, increased flooding and flooding of rivers (television Kochi) #Yahoo News']"
   ]
  },
  {
   "cell_type": "code",
   "execution_count": 43,
   "metadata": {},
   "outputs": [
    {
     "data": {
      "text/plain": [
       "['\"Linear rainfall zone prediction information\" in Shikoku and China Regions The risk of heavy rainfall disaster is likely to rise sharply from morning to night on the 2nd day Watch for landslides, flooding, increased flooding and flooding of rivers (television Kochi) #Yahoo News',\n",
       " '\"Linear rainfall zone prediction information\" in Shikoku and China Regions The risk of heavy rainfall disaster is likely to rise sharply from morning to night on the 2nd day Watch for landslides, flooding, increased flooding and flooding of rivers (television Kochi) #Yahoo News',\n",
       " 'The weather agency has announced that the risk of heavy rainfall disasters could rise sharply tomorrow when a linear rainfall zone occurs in the Shikoku and China regions.For the first time this year, the forecast information of the linear rainfall zone will be published, and strict vigilance is required for landslides and flooding of rivers. #The weather agency #Linear rainfall zone #China region #Shikoku #Rainfall #Strict vigilance',\n",
       " \"Warning of high waves and high tides in the southwestern islands, and warning of storms. warning of landslides, lowland flooding, and increased flooding of rivers in a wide area from west to east Japan. warning of linear rainfall zones in China's four provinces during the morning to night of the two days, and the risk of heavy rainfall disasters is rapidly increasing.\",\n",
       " 'Also, watch out for landslides, low-land flooding, increased rivers and flooding in a wide range of areas from western to eastern Japan.In China and Shikoku regions, the risk of heavy rainfall can rise rapidly due to the occurrence of linear rainfall zones between the morning and evening of two days.',\n",
       " 'Warning of heavy rains outside Shikoku region, China Warning of heavy rains outside Shikoku region, China Warning of heavy rains outside Shikoku region, China Warning of heavy rains outside Shikoku region, Japan Warning of heavy rains outside Shikoku region, Japan Warning of heavy rains outside Shikoku region, Japan Warning of heavy rains outside Shikoku region, Japan Warning of heavy rains outside Shikoku region, Japan Warning of heavy rains outside Shikoku Region, Japan Warning of heavy rains outside Shikoku Region, Japan Warning of heavy rains outside Shikoku Region, Japan Warning of heavy rains outside Shikoku Region, Japan Warning of heavy rains outside Shikoku Region, Japan Warning of heavy rains outside Shikoku Region, Japan Warning of heavy rains outside Shikoku Region, Japan Warning',\n",
       " \"Beware of heavy rains From dawn until nightfall, it is possible to have a warning-grade heavy rain.Beware of low-lying lands and increasing rivers.Check your area's hazard map before the rain winds become strong.Make a disaster-preparedness effort.Read Hyogo Prefecture's hazard map here\",\n",
       " '[Rainstorm] Forecast of Rainstorm Warning Announcement on the afternoon of the 2nd day Warning of landslides, flooding, and increased river flooding in Kyoto, Shiga',\n",
       " '[Kyoto, Shiga] On the afternoon of the 2nd, there will be a large rain warning, and people will be alert to landslides, flooding, and increased rivers.',\n",
       " '[Warning about heavy rains] In the northwestern part of Chiba Prefecture, there is a risk of heavy rains from June 2 to June 3.Beware of earthquakes, landslides, low-lying landslides, and increased flooding of rivers.Check the hazard map and the means of obtaining evacuation information in advance, and check the necessary preparations once again.',\n",
       " 'There is a need for strict vigilance in the event of earthquakes and flooding of rivers.It is expected that there will be heavy rainfall from western Japan to eastern Japan in a wide range of areas outside the Shikoku region and China tomorrow.',\n",
       " '[Tokyo weather information on heavy rain, high waves and thunderstorms] June 1, 16:44 In the Tokyo region and the Izu Islands, for two to three days, there may be a warning-level heavy rain.Be careful and watch out for earthquakes, low-lying landslides, and increased rivers.In the Izu Islands...',\n",
       " 'Beware of low-land flooding, increased rivers and flooding.In China and Sichuan provinces, the risk of heavy rainfall can rise sharply due to the occurrence of linear rainfall zones between the morning and night of the 2nd day....',\n",
       " 'In China and the Shikoku region, on the next two days, there will be a linear rainfall zone, and the risk of major rainfall disasters will rise dramatically. Beware of landslides, low-lying landslides, increased rivers, and flooding. In the Pacific side of the Shikoku region, there are many places where very heavy rains of 70 millimeters per hour are expected.',\n",
       " 'Tomorrow, there will be heavy rain forecasts around midnight in Nerima Ward.In Nerima Ward, we have opened a summary page to prepare for heavy rain.In order to prevent flooding, please also check the cleaning of side ditches and rainwater areas, the preparation of soil water stopping boards, and the hazard map for floods and landslides.',\n",
       " \"It's also important to watch out for fires, but it's a rainy season.It's also important to watch out for floods and landslides caused by heavy rain.It's expected to be heavy rain in Nagano Prefecture tomorrow.For those who are close to rivers, cliffs and steep slopes, please check your evacuation places and evacuation tools. #Nagano Prefecture #Togo City #Firemen's Unit #TOMIVFC0403\",\n",
       " '[Information on Ehime, heavy rains and high waves] In Shikoku, the risk of heavy rains can rise rapidly due to the occurrence of a linear rainfall zone between the morning and evening of two days.In Ehime Prefecture, beware of landslides, flooding, increased rivers, and flooding.',\n",
       " 'Information on Typhoon No.2 #87: Beware of landslides, low-lying landslides, increased flooding and flooding of rivers.In China and Shikoku regions, the risk of heavy rainfall can rise rapidly due to the occurrence of linear precipitation zones between the morning and evening of the 2nd day (2/2)',\n",
       " 'To the citizens of Ningyagawa City, there will be heavy rainfall in Ningyagawa City tomorrow, depending on the time.In some cases, there is a possibility that there will be a \"Rainstorm Warning\" (such as landslides and flooding) early in the morning.On the other hand, there is no prediction of a \"Rainstorm Warning\" order, which is the standard for school holidays....',\n",
       " 'In Chiba Prefecture, due to the influence of the front line, there will be places where very heavy rains will fall over the next three days from the beginning of the night to the end of the day.Beware of landslides, low-lying landslides, increased flooding and flooding of rivers.Please carefully check the information provided by the Meteorological Agency\\'s \"Kikikul\" hazard distribution.',\n",
       " '2/2 【Report on Typhoon No.2 of the Year 87】 Also, beware of landslides, low-lying landslides, increased flooding and flooding of rivers in a wide area from western to eastern Japan.In China and Shikoku regions, the risk of heavy rainfall can rise rapidly due to the occurrence of a linear rainfall zone between the morning and evening of the 2nd day.',\n",
       " 'In Shizuoka Prefecture, there is a danger that the total rainfall will reach 200-300 mm.Serious warning against road flooding, landslides, landslides, flooding of rivers!',\n",
       " '[What is the risk of flooding in your area?] There is a risk of heavy rain in western and eastern Japan for 3 days Do you have a river or low land nearby?You can check the risk of flooding, flooding, landslides, and landslides at your home, company, school, commuter and school streets using the National Hazard Map.',\n",
       " '[Tokyo weather information on heavy rain, high waves and thunderstorms] June 1 18:00-18:00 In the Tokyo region and the Izu Islands, there may be a warning-level heavy rain for two to three days.Be careful and watch out for earthquakes, low-lying landslides, and increased rivers.In the Izu Islands...',\n",
       " 'In Fukui Prefecture, if it rains badly, you might be alert to \"Concern on flooding of rivers and landslides\"!',\n",
       " 'The weather agency announced that the risk of heavy rainfall could rise sharply due to the occurrence of a linear rainfall zone between the morning and afternoon of the 2nd day in the Chinese and Shikoku regions. #Rainfall #Linear rainfall zone',\n",
       " 'In the Chinese and Shikoku regions, a \"linear rainfall zone\" may occur in the morning of the second day, and the risk of a disaster may rise sharply.Watch out for landslides and low-land flooding, and pay attention to information from local governments.',\n",
       " 'Emergency Information for Ehime Prefecture on Heavy Rains and High Waves Issue 2 June 01, 2023 16:51 Matsuyama Regional Meteorological Station Announcement In the Shikoku Region, the risk of heavy rain disasters is likely to rise sharply due to the occurrence of linear rainfall zones between the morning and evening of the 2nd day of June.In Ehime Prefecture, earthquakes, low-lying landslides, and...',\n",
       " 'Influence of Typhoon No. 2... Linear rainfall zone heavy rain warning worries. ☆In July-September 2022, Yamaguchi had more than 30 thunderstorms (&gt;_&lt;) ☆#Ministry of Transportation and Communications Disaster Prevention Information of the River ↓ #XRAIN should also be checked ☆You should also see the past heavy rainfall image tweet... ☆Beware of flooding even if there is no Linear rainfall zone. ☆Many dreadful communities + road flooding + unable to evacuate ↓ level',\n",
       " 'Please be aware of heavy rains (June 1st) Please be aware that information about heavy rains has been released from Niigata Regional Meteorological Station.At Nakaechi and Uechi, be careful and watch out for landslides, low-lying landslides, and increased rivers from day to night.',\n",
       " 'Forecast Information for \"linear rainfall zone\" in Shikoku and China The risk of major rainfall disasters is likely to rise sharply from morning to night on the 2nd day Warning against landslides, flooding, increased rivers and flooding (KUTV TV Kochi)',\n",
       " 'Forecast Information for \"linear rainfall zone\" in Shikoku and China The risk of major rainfall disasters is likely to rise sharply from morning to night on the 2nd day Warning against landslides, flooding, increased rivers and flooding (KUTV TV Kochi)',\n",
       " 'Beware of heavy rains In the future, especially over two days from midday to late night, earthquakes caused by heavy rains, low-land flooding, rivers, etc. ～Osaka Disaster Prevention Information Email ⇒Osaka Safety and Security Information #Osaka Prefecture #Disaster Prevention #Disaster Prevention #Warning',\n",
       " 'If a linear rainfall zone occurs, there is a risk that the amount of rain will increase locally.Watch out for landslides, low-land flooding, increased rivers and flooding in a wide range of areas from western to eastern Japan.',\n",
       " 'Beware of heavy rainstorms in the Kanto region tomorrow!Beware of flooding of rivers and increasing waterways due to linear rainfall zones!!',\n",
       " '≪Local Information≫ [Shikoku Regional Weather Information Concerning Heavy Rains] In the Shikoku region, during the morning and evening of the 2nd day, there may be a linear rainfall zone and the risk of a heavy rainfall disaster may rise sharply.Beware of landslides, low-lying landslides, increased rivers and flooding.',\n",
       " 'Forecast information for \"linear rainfall zone\" in Shikoku and China From morning to night, the risk of heavy rainfall is likely to rise sharply \\\\ #Kochi #News #TVKochi #KUTVNews #KUTV #NEWSDIG',\n",
       " '[Rainstorm] Forecast of Rainstorm Warning Announcement on the afternoon of the 2nd day Warning of landslides, flooding, and increased rivers in Kyoto, Shiga #kyoto',\n",
       " '[What are the risks of flooding in your area?] Even in western and eastern Japan, there is a risk of heavy rain for three days.Do you have a river or lowland nearby?You can check the risks of flooding, flooding, landslides, and landslides in your home, company, school, commuter and school streets using the National Hazard Map.',\n",
       " '[Friday 2, fear of \"disaster-grade heavy rains\" and the possibility of a linear rainfall zone to evacuate mindset] Typhoon 2 This evening ~Friday morning Closest to Okinawa main island Activation of Typhoon Northeast and Plum Front Widespread fear of heavy rains Warning of heavy rains in Kyushu ~ Kanto Koshin China, Shikoku region \"linear rainfall zone\" fear',\n",
       " 'In the area where I live, there was no major damage, but in the completely flooded towns, there seems to be a large number of people who are not able to return to their homes... Japan is also going to have a rainy season, and I hope that no damage will be caused by heavy rain...',\n",
       " '[Beware of heavy rain] On Friday, 6th February, the night of tomorrow # heavy rain is expected.In order to prevent flooding into the house, please make the necessary preparations around you, such as cleaning the side ditches and rainwater, and preparing the soil and water stopping boards.Please check the weather information for the future on TV, radio, and the internet. #練馬区',\n",
       " '[Extreme Rain Threat] In Saitama Prefecture, due to the front line and typhoon, there is a risk of heavy rainfall during the night and night of 2 to 3 days.The weather station has called for warning against earthquakes, low-lying landslides, and increased flooding of rivers. #NHK Saitama',\n",
       " 'In Shizuoka Prefecture, heavy rains and very heavy rains with thunderstorms are expected to occur from the morning of the 2nd to the 3rd of the day, and there are places where heavy rains will occur.It is expected that the sea will be turbulent during the 2nd to the 3rd of the day.Beware of landslides, low-lying landslides, increased flooding and flooding of rivers, and be careful and watch out for high waves with turbulent conditions.',\n",
       " '16:01 on Jan. 01 [Shikoku Prefecture Weather Information on Heavy Rains] In Shikoku Prefecture, during the morning and evening of the 2nd day, there may be a linear rainfall zone, and the risk of heavy rain disasters may rise sharply.Beware of landslides, low-lying landslides, increased rivers and flooding. #Local Information',\n",
       " 'Influence of Typhoon No. 2...Dangerous Heavy Rain Concern ☆Retrieval of Disaster Prevention Information↓Checkpoints #Water Information Alert Email #626Danger: Yama鹿 1455.3mm, Kikuchigawa maximum water level 9m, Hundreds of thousands of households flooded, Most communications ceased=First emergency communications in Japan, Kumamoto volcanic ash mixed mud flow #Linear precipitation zone #September 2, 2016 Flood: #Kikuchigawa 7.85m ●Vertical evacuation will flow every house',\n",
       " 'A typhoon is approaching!Tomorrow, we need to be alert to strong rainfall in both Eastern and Western Japan during the day after dawn.We also need to be alert to flooding of rivers and landslides caused by heavy rainfall.We also need to be alert to over 100mm forecasts on a wide range and over 300mm locally.',\n",
       " '[The danger of heavy rain in western and eastern Japan] Activities on the front line have been active.Even in western and eastern Japan, far away from the typhoon, there is a wide range of risk of heavy rain in the future.It may be necessary to evacuate.Please make sure that you pay attention to these things when evacuating by walking.',\n",
       " '[Typhoon 2 approaches] There is a threat of very heavy rain in Oita Prefecture for two days. Beware of landslides and landslides. Beware of flooding of low land and increasing rivers.',\n",
       " 'Tomorrow, the Kanto region will be hit by the wet air of the typhoon and the front line of the rainy season.Be careful of the heavy rainstorms in the wilderness!Be careful of the flooding of rivers by the linear rainfall zone and the increase in waterways!!',\n",
       " '[News Release] Meteorological Agency announces \"linear rainfall zone prediction information\" | ANN #linear rainfall zone \"There is a need to strictly guard against landslides and flooding of rivers\" \"Ash is expected to be heavy rainfall in a wide range from western Japan to eastern Japan except for the Shikoku region and China region\"',\n",
       " \"it's always a mystery...the elementary school in osaka prefecture has a school apart from the storm warning and earthquake disaster warning.even if there's a special rain warning and flood warning, there's a school even if there's a flood.\",\n",
       " '≪Regional Information≫ [Regional Weather Information on Heavy Rains and High Waves in the Kinki Region] In the Kinki Region, it is expected that heavy rains and very heavy rains with local thunderstorms will fall from the beginning of the day to the middle of the morning of the third day.Watch out for landslides, low-land flooding, increased flooding and flooding of rivers from the afternoon of the second day until late at night.',\n",
       " '[Continental Weather Information on Heavy Rains and High Waves] (June 01, 2023) In the Kinki region, heavy rains and very heavy rains with local thunderstorms are expected from the beginning of the day to the beginning of the night during the 3rd morning of the day.Beware of landslides, low-lying landslides, increased rivers, and flooding from the 2nd day to the late night.',\n",
       " '[Ehime Prefecture Heavy Rain Information] Shikoku Prefecture is likely to increase the risk of disaster rapidly due to the occurrence of a linear rainfall zone between the morning and evening of the 2nd day.It is expected that there will be very heavy rainfall during the day with thunderstorms.The forecast rainfall up to tomorrow evening will be 150 mm.It is also possible that there will be more if a linear rainfall zone occurs.Beware of landslides, flooding of rivers and landslides.',\n",
       " \"JR announces scheduled shutdown Western Japan is devastated Don't move from tonight to tomorrow Typhoon and heavy rain in front of the plum rainfall disaster-grade rainfall 2 days at peak forecast rainfall for the first month of June 200 to 400 millimetres over Car movement is flooded, houses are flooded, rivers are flooded, waterways are flooded by artillery, landslides are flowing home Heavy wind and splashing rain warning potential big risk of life\",\n",
       " '[Confirmation of the Hazard Map] [Introduction of the day before and night] A very heavy rain in Tokushima Prefecture We have been able to collect and list digital data of floods, landslides, and tsunamis from all over the country What is the risk of disaster in your area?',\n",
       " '[Miyazaki Prefecture Meteorological Information on Heavy Rains] June 1, 16:00 In Miyazaki Prefecture, beware of landslides, low-land flooding, increased rivers and flooding from early on in the day.',\n",
       " '[千葉情報] Prefecturewide, watch out for earthquakes, landslides, low-lying landslides, increased flooding and flooding of rivers, and high waves from late to late on the 2nd day and 3rd day. ◆ Heavy rain, thunderstorms, and thunderstorms In Chiba Prefecture, due to the front line, heavy rain followed by thunderstorms on the 2nd day and 3rd day, and from the beginning of the 2nd day and night, it seems that there are places where very heavy rain has fallen and heavy rain. Choshi',\n",
       " '[Shikoku Prefecture Weather Information on Heavy Rains] In Shikoku Prefecture, during the morning and evening of the 2nd day, there may be a linear rainfall zone, and the risk of heavy rain disasters can increase rapidly.Beware of landslides, low-land flooding, increased rivers and flooding. #Shikoku Prefecture #Linear rainfall zone #Hayabusa']"
      ]
     },
     "execution_count": 43,
     "metadata": {},
     "output_type": "execute_result"
    }
   ],
   "source": [
    "tweets = []\n",
    "for doc in docs:\n",
    "    tweets.append(doc.page_content)\n",
    "tweets"
   ]
  },
  {
   "cell_type": "code",
   "execution_count": 35,
   "metadata": {},
   "outputs": [],
   "source": [
    "eng_string = ['String 1', 'String 2', 'String 3', 'String 4', 'String 5']\n",
    "\n",
    "#Extract japanese tweet texts\n",
    "tweets_JA = []\n",
    "ind = 0\n",
    "for doc in docs:\n",
    "    doc.page_content = eng_string[ind]\n",
    "    ind = ind+1"
   ]
  },
  {
   "cell_type": "code",
   "execution_count": 36,
   "metadata": {},
   "outputs": [
    {
     "data": {
      "text/plain": [
       "[Document(page_content='String 1', metadata={'date': '2023-06-01 07:20:00+00:00'}),\n",
       " Document(page_content='String 2', metadata={'date': '2023-06-01 14:28:31+00:00'}),\n",
       " Document(page_content='String 3', metadata={'date': '2023-06-01 07:05:17+00:00'}),\n",
       " Document(page_content='String 4', metadata={'date': '2023-06-01 09:48:38+00:00'}),\n",
       " Document(page_content='String 5', metadata={'date': '2023-06-01 07:58:04+00:00'})]"
      ]
     },
     "execution_count": 36,
     "metadata": {},
     "output_type": "execute_result"
    }
   ],
   "source": [
    "docs"
   ]
  },
  {
   "cell_type": "code",
   "execution_count": null,
   "metadata": {},
   "outputs": [],
   "source": [
    "#Testing UAE embeddings\n",
    "from scipy import spatial\n",
    "input = \"Which locations have recieved an evacuation order?\"\n",
    "query = embeddings.embed_query (input)\n",
    "docs = retriever.get_relevant_documents(query=input)\n",
    "\n",
    "doc_vecs = []\n",
    "for doc in docs:\n",
    "    doc_vecs.append(embeddings.embed_query (doc.page_content))\n",
    "\n"
   ]
  },
  {
   "cell_type": "code",
   "execution_count": 156,
   "metadata": {},
   "outputs": [],
   "source": [
    "cosine_sim = []\n",
    "for dv in doc_vecs:\n",
    "    cosine_sim.append(spatial.distance.cosine(query, dv))\n",
    "\n",
    "    # print(len(dv))"
   ]
  },
  {
   "cell_type": "code",
   "execution_count": 10,
   "metadata": {},
   "outputs": [],
   "source": [
    "query = \"\"\"Aberdeenshire\"\"\"\n",
    "# [d[1] for d in db.similarity_search_with_score(query, k=300)]\n",
    "outp =  db.similarity_search_with_score(query, k=300)"
   ]
  },
  {
   "cell_type": "code",
   "execution_count": 133,
   "metadata": {},
   "outputs": [
    {
     "name": "stdout",
     "output_type": "stream",
     "text": [
      "32\n"
     ]
    }
   ],
   "source": [
    "i = 0\n",
    "for element in cosine_sim:\n",
    "    if element < 0.58:\n",
    "        print(i)\n",
    "    i = i+1"
   ]
  },
  {
   "cell_type": "code",
   "execution_count": 157,
   "metadata": {},
   "outputs": [
    {
     "name": "stdout",
     "output_type": "stream",
     "text": [
      "[0.34229330651467094, 0.3523527454933534, 0.370738919434058, 0.3409977837027661, 0.3808665840456119, 0.37973994344030293, 0.37730797238417757, 0.35122532465563394, 0.35122532465563394, 0.3729195770924556, 0.36091296423524044, 0.3950091916938203, 0.3859390293303776, 0.36490902204834186, 0.39579932435002785, 0.3863409525292969, 0.35497307444649684, 0.40484377180522346, 0.39177352713349833, 0.380038328370378, 0.380038328370378, 0.3817885659419147, 0.40081366993277057, 0.40081366993277057, 0.40081366993277057, 0.39835584357576426, 0.4116979428866232, 0.4033720395728032, 0.4146771739478383, 0.3868499953945115, 0.39574133157486924, 0.38353882442642395, 0.42065178207880416, 0.41864865979655863, 0.41864865979655863, 0.3945974962308513, 0.39757451131286503, 0.39757451131286503, 0.4041586242397557, 0.36429657053695186, 0.4197360858733562, 0.4197360858733562, 0.4197360858733562, 0.4194068209661198, 0.42830807349480526, 0.42830807349480526, 0.3977146733165594, 0.3871695418771349, 0.3813732739941934, 0.4073258430145349, 0.41711782267561137]\n"
     ]
    }
   ],
   "source": [
    "print(cosine_sim)"
   ]
  },
  {
   "cell_type": "code",
   "execution_count": 25,
   "metadata": {},
   "outputs": [],
   "source": [
    "#New embeddging model\n",
    "from transformers import AutoModel, AutoTokenizer\n",
    "\n",
    "input_texts = [\n",
    "    \"what is the capital of China?\",\n",
    "    \"how to implement quick sort in python?\",\n",
    "    \"Beijing\",\n",
    "    \"sorting algorithms\"\n",
    "]\n",
    "\n",
    "model_path = 'Alibaba-NLP/gte-large-en-v1.5'\n",
    "tokenizer = AutoTokenizer.from_pretrained(model_path)\n",
    "model = AutoModel.from_pretrained(model_path, trust_remote_code=True)\n",
    "\n",
    "# Tokenize the input texts\n",
    "batch_dict = tokenizer(input_texts, max_length=8192, padding=True, truncation=True, return_tensors='pt')\n",
    "\n",
    "outputs = model(**batch_dict)\n",
    "embeddings = outputs.last_hidden_state[:, 0]"
   ]
  },
  {
   "cell_type": "code",
   "execution_count": 21,
   "metadata": {},
   "outputs": [
    {
     "data": {
      "text/plain": [
       "4"
      ]
     },
     "execution_count": 21,
     "metadata": {},
     "output_type": "execute_result"
    }
   ],
   "source": [
    "e = embeddings.tolist()\n"
   ]
  },
  {
   "cell_type": "code",
   "execution_count": null,
   "metadata": {},
   "outputs": [],
   "source": [
    "from sentence_transformers import SentenceTransformer\n",
    "from langchain_experimental.text_splitter import SemanticChunker\n",
    "from typing import List\n",
    "\n",
    "\n",
    "class MyEmbeddings:\n",
    "    def __init__(self):\n",
    "        self.model = SentenceTransformer(\"sentence-transformers/all-MiniLM-L6-v2\")\n",
    "\n",
    "    def embed_documents(self, texts: List[str]) -> List[List[float]]:\n",
    "        return [self.model.encode(t).tolist() for t in texts]\n",
    "\n",
    "\n",
    "embeddings = MyEmbeddings()\n",
    "\n",
    "# splitter = SemanticChunker(embeddings)"
   ]
  },
  {
   "cell_type": "code",
   "execution_count": 5,
   "metadata": {},
   "outputs": [],
   "source": [
    "# creating custom embeddings with non-default embedding model\n",
    "\n",
    "from chromadb import Documents, EmbeddingFunction, Embeddings\n",
    "\n",
    "class MyEmbeddingFunction(EmbeddingFunction):\n",
    "    def __call__(self, input: Documents) -> Embeddings:\n",
    "        ##\n",
    "        #New embeddging model\n",
    "        from transformers import AutoModel, AutoTokenizer\n",
    "\n",
    "\n",
    "        model_path = 'Alibaba-NLP/gte-large-en-v1.5'\n",
    "        tokenizer = AutoTokenizer.from_pretrained(model_path)\n",
    "        model = AutoModel.from_pretrained(model_path, trust_remote_code=True)\n",
    "\n",
    "        # Tokenize the input texts\n",
    "        batch_dict = tokenizer(input, max_length=8192, padding=True, truncation=True, return_tensors='pt')\n",
    "\n",
    "        outputs = model(**batch_dict)\n",
    "        embeddings = outputs.last_hidden_state[:, 0]\n",
    "                \n",
    "        return embeddings.tolist()\n",
    "        \n",
    "        \n",
    "        \n",
    "custom_embeddings=MyEmbeddingFunction()\n"
   ]
  },
  {
   "cell_type": "code",
   "execution_count": null,
   "metadata": {},
   "outputs": [],
   "source": [
    "# embeddings = model\n",
    "\n",
    "documents = []\n",
    "loader = DataFrameLoader(data, page_content_column=\"text\")\n",
    "documents.extend(loader.load())\n",
    "print(documents)\n",
    "\n",
    "# db = Chroma.Chroma.from_documents(documents,\n",
    "#                                   custom_embeddings,\n",
    "#                                   collection_metadata={\"hnsw:space\": \"cosine\"})\n"
   ]
  }
 ],
 "metadata": {
  "kernelspec": {
   "display_name": "llama",
   "language": "python",
   "name": "python3"
  },
  "language_info": {
   "codemirror_mode": {
    "name": "ipython",
    "version": 3
   },
   "file_extension": ".py",
   "mimetype": "text/x-python",
   "name": "python",
   "nbconvert_exporter": "python",
   "pygments_lexer": "ipython3",
   "version": "3.11.7"
  }
 },
 "nbformat": 4,
 "nbformat_minor": 2
}
