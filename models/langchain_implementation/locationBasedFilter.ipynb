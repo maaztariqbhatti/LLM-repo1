{
 "cells": [
  {
   "cell_type": "code",
   "execution_count": 1,
   "metadata": {},
   "outputs": [],
   "source": [
    "import pandas as pd\n",
    "import pickle\n",
    "from langchain_community.vectorstores import chroma as Chroma\n",
    "from langchain_community.embeddings import HuggingFaceBgeEmbeddings\n",
    "from langchain_core.vectorstores import VectorStoreRetriever\n",
    "from langchain_community.document_loaders import DataFrameLoader\n",
    "from langchain.indexes import SQLRecordManager, index\n",
    "from langchain_core.documents import Document\n",
    "import json\n",
    "from Text_preprocessing import Text_preprocessing"
   ]
  },
  {
   "cell_type": "code",
   "execution_count": 2,
   "metadata": {},
   "outputs": [],
   "source": [
    "##FSD_1777\n",
    "dataPath = \"/home/mbhatti/mnt/d/LLM-repo1/models/langchain_implementation/FSD1777_Oct23.json\"\n",
    "dateFrom = \"2023-10-19T09:00:00+00:00\" #2023-10-19T18:58:41Z for 200 tweets\n",
    "dateTo = \"2023-10-19T18:00:00+00:00\"\n",
    "\n",
    "\"\"\"Load relevant fields of flood tags api json response\"\"\"\n",
    "def json_dataloader(dataPath = dataPath, dateFrom = dateFrom, dateTo = dateTo):\n",
    "    # Load json and extract relevant records in pandas df\n",
    "    with open(dataPath, 'r') as json_file:\n",
    "        response_dict = json.load(json_file)\n",
    "\n",
    "    # Convert to pandas df    \n",
    "    pd.set_option('display.max_colwidth', None)\n",
    "    df = pd.DataFrame(response_dict)\n",
    "    df['date'] = pd.to_datetime(df['date'])\n",
    "    df = df.drop(columns=['id','tag_class', 'source', 'lang', 'urls','locations'])\n",
    "\n",
    "    #Get data between thresholds\n",
    "    threshold_datetime_lower = pd.to_datetime(dateFrom)\n",
    "    threshold_datetime_upper = pd.to_datetime(dateTo)\n",
    "    df = df[df['date'] >= threshold_datetime_lower]\n",
    "    df = df[df['date'] <= threshold_datetime_upper]\n",
    "\n",
    "    #Remove duplicates\n",
    "    df  = df.drop_duplicates(subset=[\"text\"], keep=False)\n",
    "    #Pre-process\n",
    "    preprocess = Text_preprocessing(df)\n",
    "    df = preprocess.preprocess()\n",
    "    #Covert date to string\n",
    "    df['date'] = df['date'].astype(str)\n",
    "    return df\n",
    "\n",
    "# Load the data from source\n",
    "data = json_dataloader()"
   ]
  },
  {
   "cell_type": "markdown",
   "metadata": {},
   "source": [
    "#### Filtering on the data"
   ]
  },
  {
   "cell_type": "code",
   "execution_count": 5,
   "metadata": {},
   "outputs": [],
   "source": [
    "import spacy\n",
    "\n",
    "# Load the English language model\n",
    "nlp = spacy.load(\"en_core_web_lg\")"
   ]
  },
  {
   "cell_type": "code",
   "execution_count": 39,
   "metadata": {},
   "outputs": [
    {
     "name": "stdout",
     "output_type": "stream",
     "text": [
      "['StormBabet', 'the coming hours', '6pm']\n"
     ]
    }
   ],
   "source": [
    "# Sample text\n",
    "text = \"All residents of #Brechin town are being told to evacuate due to #StormBabet - with the river through the town expected to rise over the coming hours and cause severe flooding. Local buses will end by 6pm, as the red warning advises against all travel in the area\"\n",
    "\n",
    "# Process the text with spaCy\n",
    "doc = nlp(text)\n",
    "\n",
    "# Extract location entities\n",
    "locations = [ent.text for ent in doc.ents]\n",
    "# Extract location entities\n",
    "\n",
    "# Print the extracted locations\n",
    "print(locations)"
   ]
  },
  {
   "cell_type": "code",
   "execution_count": 6,
   "metadata": {},
   "outputs": [],
   "source": [
    "#Implementation on the dataframe\n",
    "# Predefined list of entities to match\n",
    "predefined_entities = [\"Brechin\"]\n",
    "\n",
    "# Function to extract entities from text\n",
    "def extract_entities(text):\n",
    "    doc = nlp(text)\n",
    "    return [ent.text for ent in doc.ents]\n",
    "\n",
    "# Iterate over the DataFrame and delete rows if entities match\n",
    "for index, row in data.iterrows():\n",
    "    entities = extract_entities(row[\"text\"])\n",
    "    if any(entity in predefined_entities for entity in entities):\n",
    "        data.drop(index, inplace=True)\n",
    "\n"
   ]
  },
  {
   "cell_type": "code",
   "execution_count": 9,
   "metadata": {},
   "outputs": [
    {
     "name": "stdout",
     "output_type": "stream",
     "text": [
      "                           date  \\\n",
      "4187  2023-10-19 17:59:34+00:00   \n",
      "4188  2023-10-19 17:58:01+00:00   \n",
      "4190  2023-10-19 17:56:11+00:00   \n",
      "4191  2023-10-19 17:56:10+00:00   \n",
      "4192  2023-10-19 17:54:48+00:00   \n",
      "...                         ...   \n",
      "4737  2023-10-19 09:07:02+00:00   \n",
      "4738  2023-10-19 09:03:44+00:00   \n",
      "4739  2023-10-19 09:00:39+00:00   \n",
      "4740  2023-10-19 09:00:15+00:00   \n",
      "4741  2023-10-19 09:00:07+00:00   \n",
      "\n",
      "                                                                                                                                                                                                                                                    text  \n",
      "4187                                                                                                                                                                                 Breaking: Flood warning issued along the River Don in Aberdeenshire  \n",
      "4188                                                                                                                                                  Does Rich Sunak have investments in Israel? Shouldn’t he be visiting Braemar and the floods today?  \n",
      "4190                            The reality of rapid river level rise due to #StormBabet: footage from at today, &amp; the water level just downstream (Gella bridge on the River Sth Esk). #Brechin residents being evacuated. #rainfall #runoff #storm  \n",
      "4191       Britain braces for 'wettest ever day' as Storm Babet barrels down: Map reveals how UK will be drenched as town is evacuated, funerals are cancelled and 10,000 homes are left without power as 80mph gales and heavy rain pose 'risk to life'  \n",
      "4192                                 All that rain gathering to the south over France and heading north, some thundery, and heavy showers ahead of it, were the Met Office sure they wanted to cancel the yellow rain warning for SE England #StormBabet  \n",
      "...                                                                                                                                                                                                                                                  ...  \n",
      "4737  There's a yellow weather warning for heavy rain in place for #London tomorrow Familiarise yourself on what to do if you're affected by flooding. Take particular care when travelling &amp; don't attempt to drive through floodwater More advice:  \n",
      "4738                                                                                                                                                                                    Leaky wooden dams installed to prevent #Flooding in Shropshire -  \n",
      "4739                                                                                                                           Video shows critical Bakhmut supply bridge destroyed by Russian forces #Russia #Ukraine #Britain #America #UkraineWarNews  \n",
      "4740                     Areas of the UK are set to be hit by Storm Babet this week, with yellow warnings in place for heavy rain and strong winds across many parts of the country. We have put together some tips to help you stay safe on the roads -  \n",
      "4741                                                                                                                                                                                                                        Big flooding in Scotland atm  \n",
      "\n",
      "[460 rows x 2 columns]\n"
     ]
    }
   ],
   "source": [
    "# Display the resulting DataFrame\n",
    "# with pd.option_context('display.max_rows', None,\n",
    "#                        'display.max_columns', None,\n",
    "#                        'display.precision', 3,\n",
    "#                        ):\n",
    "print(data)"
   ]
  },
  {
   "cell_type": "markdown",
   "metadata": {},
   "source": [
    "#### Vector store ops"
   ]
  },
  {
   "cell_type": "code",
   "execution_count": 7,
   "metadata": {},
   "outputs": [],
   "source": [
    "def bgeEmbeddings():\n",
    "    model_name = \"BAAI/bge-large-en-v1.5\"\n",
    "    model_kwargs = {'device': 'cuda'}\n",
    "    encode_kwargs = {'normalize_embeddings': True} # set True to compute cosine similarity\n",
    "    model = HuggingFaceBgeEmbeddings(\n",
    "        model_name=model_name,\n",
    "        model_kwargs=model_kwargs,\n",
    "        encode_kwargs=encode_kwargs\n",
    "    )\n",
    "    return model"
   ]
  },
  {
   "cell_type": "code",
   "execution_count": 8,
   "metadata": {},
   "outputs": [
    {
     "name": "stdout",
     "output_type": "stream",
     "text": [
      "REMOVE 1015 document(s) from langchain collection\n"
     ]
    }
   ],
   "source": [
    "embeddings = bgeEmbeddings()\n",
    "\n",
    "documents = []\n",
    "loader = DataFrameLoader(data, page_content_column=\"text\")\n",
    "documents.extend(loader.load())\n",
    "#Create a vector store\n",
    "# db = Chroma.Chroma(\"Langchain collection\",embeddings)\n",
    "db = Chroma.Chroma.from_documents(documents,\n",
    "                                  embeddings)\n",
    "if db._client.list_collections() != None:\n",
    "\n",
    "  for collection in db._client.list_collections():\n",
    "    ids = collection.get()['ids']\n",
    "    print('REMOVE %s document(s) from %s collection' % (str(len(ids)), collection.name))\n",
    "    if len(ids): collection.delete(ids)\n",
    "\n",
    "db = Chroma.Chroma.from_documents(documents,\n",
    "                                  embeddings)"
   ]
  },
  {
   "cell_type": "code",
   "execution_count": 10,
   "metadata": {},
   "outputs": [
    {
     "data": {
      "text/plain": [
       "460"
      ]
     },
     "execution_count": 10,
     "metadata": {},
     "output_type": "execute_result"
    }
   ],
   "source": [
    "# Get all embeddings\n",
    "len(db._collection.get()['ids'])"
   ]
  },
  {
   "cell_type": "code",
   "execution_count": 15,
   "metadata": {},
   "outputs": [
    {
     "name": "stdout",
     "output_type": "stream",
     "text": [
      "[Document(page_content='Angus Glens region in Scotland. The red warning hasn’t come into force yet and already we’re seeing scenes like this. Potential for historic levels of flooding. Awful.', metadata={'date': '2023-10-19 16:19:56+00:00'}), Document(page_content='Storm Babet - WARNINGS UPDATE The Met Office have extended the area of the RED warning for HEAVY RAIN in eastern Scotland. An AMBER warning for HEAVY RAIN has also been issued for parts of N England, the Midlands and Borders All the warning details:', metadata={'date': '2023-10-19 11:21:17+00:00'}), Document(page_content='Ireland Scotland England Portugal Spain Italy Nigeria Ghana Uganda Egypt Saudi Arabia Israel Turkey India Myanmar Thailand USA Mexico The Dominican Republic Guadalupe Trinidad &amp; Tobago Guatemala Uruguay Peru Brazil have ALL suffered extreme flooding events in October 2023 alone.', metadata={'date': '2023-10-19 13:56:59+00:00'}), Document(page_content='Over 300 homes in #Brechin, #Scotland, are being evacuated due to a rare red weather warning caused by #StormBabet. The region anticipates severe #flooding and life-threatening conditions. Red warnings are issued only when there is a high likelihood of dangerous weather that…', metadata={'date': '2023-10-19 13:05:40+00:00'}), Document(page_content='Rainfall triggers dozens of landslides in Scotland. Submit outline ‘urgency’ grant. Asked if the process taking until min end Nov is an issue. Say no as roads ppl will get some data asap from a couple of the landslides to quant what we may miss. Told ok, no longer eligible', metadata={'date': '2023-10-19 14:55:09+00:00'}), Document(page_content='As communities in counties Cork and Waterford continue their battle amidst the aftermath of Storm Babet in Ireland, the United Kingdom braces itself for the tempest. #extremeweather #ireland #uk #floods #storm #babet #stormbabet #cork #flooding', metadata={'date': '2023-10-19 12:06:42+00:00'}), Document(page_content=\"The Red warning's been extended to: Aberdeenshire Angus Dundee Perth &amp; Kinross This means extremely dangerous travel conditions and floodwater could cause a danger to life. Please avoid travel in these areas. More safety advice here:\", metadata={'date': '2023-10-19 13:23:57+00:00'}), Document(page_content='Storm Babet: Amber weather warning issued for Nottingham as high winds and heavy rain expected', metadata={'date': '2023-10-19 11:30:00+00:00'}), Document(page_content='The Met Office has issued an amber weather warning for Oldham over the next couple of days. Storm Babet is likely to bring heavy rain to the borough which may cause disruption. Please take extra care when traveling. More information', metadata={'date': '2023-10-19 16:21:41+00:00'}), Document(page_content='Weather warnings are in place as Storm Babet brings high winds and heavy rain across the UK. We are urging people to stay safe, follow advice and should the worse happen please contact us: 01443 228811', metadata={'date': '2023-10-19 12:31:20+00:00'}), Document(page_content='Storm Babet: Red weather warning extended to Perth and Dundee as preparations for damage control underway | The bout of extreme weather is expected to bring severe flooding and disruption', metadata={'date': '2023-10-19 11:12:46+00:00'}), Document(page_content='Hear hear... Same applies to UK.. is doing everything in her power to block nature protections from climate breakdown deluge in our cities. Should be called the Minister for Maximising Flood Damage.', metadata={'date': '2023-10-19 16:52:11+00:00'}), Document(page_content='We have Vactor units &amp; tankers on site on the #A90 around #Finavon &amp; #Brechin along with flood patrol teams. Our teams will continue to patrol the area &amp; monitor the impact of #StormBabet. Please take care &amp; #StaySafe. #DriveSafe #WeatherAware #PlanAhead #Angus', metadata={'date': '2023-10-19 14:54:56+00:00'}), Document(page_content='Ireland and UK may have months worth of rain news has said from Storm babet few areas red level warnings of flooding', metadata={'date': '2023-10-19 12:15:03+00:00'}), Document(page_content=\"Met Office issues amber warning for North of England as Storm Babet sparks chaos in Britain - with trains cancelled, roads blocked and 'do not travel' warnings after 70mph gales and heavy rain hammered Ireland\", metadata={'date': '2023-10-19 10:32:30+00:00'}), Document(page_content=\"Met Office issues amber warning for North of England as Storm Babet sparks chaos in Britain - with trains cancelled, roads blocked and 'do not travel' warnings after 70mph gales and heavy rain hammered Ireland\", metadata={'date': '2023-10-19 10:47:57+00:00'}), Document(page_content='The Met Office is warning parts of the UK could be cut off by flooding as Storm Babet batters the country. A new amber warning for rain has been issued for parts of northern England, the Midlands and Wales, and a rare red weather warning is in place in Scotland.', metadata={'date': '2023-10-19 14:00:00+00:00'}), Document(page_content='The Met Office has issued Amber &amp; Red weather warnings across the UK in the face of #StormBabet. There is a real risk of flooding &amp; injury, so take steps now to review your preparedness &amp; minimise the risk of damage', metadata={'date': '2023-10-19 10:59:32+00:00'}), Document(page_content='The Met Office has issued Amber &amp; Red weather warnings across the UK in the face of #StormBabet. There is a real risk of flooding &amp; injury, so take steps now to review your preparedness &amp; minimise the risk of damage', metadata={'date': '2023-10-19 10:58:34+00:00'}), Document(page_content='Have a listen to Teresa Mannion on behalf of . #StormBabet has left a severe flooding impact especially in #Midleton. Scotland had a red warning for #StormBabet #traveltips', metadata={'date': '2023-10-19 11:03:58+00:00'}), Document(page_content=\"Met Office issues amber warning for North of England as Storm Babet sparks chaos in Britain - with trains cancelled, roads blocked and 'do not travel' warnings after 70mph gales and heavy rain hammered Ireland The warning is in place from noon on F...\", metadata={'date': '2023-10-19 10:31:48+00:00'}), Document(page_content='Update: Five places in England have been given flood warnings: Barbourne in Worcester; the River Maun near Retford; the coastlines at Bridlington and Scarborough in Yorkshire; and the banks of the Tyne at North and South Shields in Newcastle.', metadata={'date': '2023-10-19 13:07:12+00:00'}), Document(page_content='The Amber alert for rain has been extended to several new areas across England, Friday – Saturday. Our risk management team have provided guidance on preparing for floods and we recommend checking for updates in your area.', metadata={'date': '2023-10-19 10:34:15+00:00'}), Document(page_content='The Amber alert for rain has been extended to several new areas across England, Friday – Saturday. Our risk management team have provided guidance on preparing for floods and we recommend checking for updates in your area.', metadata={'date': '2023-10-19 10:38:12+00:00'}), Document(page_content='Route cause. Dilly dallying on the Middleton flood relief scheme. Been ongoing for 6 years and nothing actually done to mitigate against this happening. Failure', metadata={'date': '2023-10-19 13:31:07+00:00'})]\n"
     ]
    }
   ],
   "source": [
    "retriever = db.as_retriever(search_kwargs={'k': 25})\n",
    "query = \"\"\"Which locations have specifically received evacutaion orders?\"\"\"\n",
    "docs = retriever.get_relevant_documents(query=query)\n",
    "print(docs)"
   ]
  }
 ],
 "metadata": {
  "kernelspec": {
   "display_name": "llama",
   "language": "python",
   "name": "python3"
  },
  "language_info": {
   "codemirror_mode": {
    "name": "ipython",
    "version": 3
   },
   "file_extension": ".py",
   "mimetype": "text/x-python",
   "name": "python",
   "nbconvert_exporter": "python",
   "pygments_lexer": "ipython3",
   "version": "3.11.7"
  }
 },
 "nbformat": 4,
 "nbformat_minor": 2
}
