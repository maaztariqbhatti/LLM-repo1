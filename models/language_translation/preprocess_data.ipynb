{
 "cells": [
  {
   "cell_type": "code",
   "execution_count": 1,
   "metadata": {},
   "outputs": [],
   "source": [
    "import json\n",
    "import pickle\n",
    "import time\n",
    "import pandas as pd\n",
    "import sys\n"
   ]
  },
  {
   "cell_type": "code",
   "execution_count": 2,
   "metadata": {},
   "outputs": [
    {
     "name": "stdout",
     "output_type": "stream",
     "text": [
      "717\n"
     ]
    }
   ],
   "source": [
    "texts = []\n",
    "eng_text = []\n",
    "with open('fsd_1555_0_50.pkl', 'rb') as f:\n",
    "    texts.append(pickle.load(f))\n",
    "\n",
    "with open('fsd_1555_50_150.pkl', 'rb') as f:\n",
    "    texts.append(pickle.load(f))\n",
    "\n",
    "with open('fsd_1555_150_250.pkl', 'rb') as f:\n",
    "    texts.append(pickle.load(f))\n",
    "\n",
    "with open('fsd_1555_250_300.pkl', 'rb') as f:\n",
    "    texts.append(pickle.load(f))\n",
    "\n",
    "with open('fsd_1555_300_400.pkl', 'rb') as f:\n",
    "    texts.append(pickle.load(f))\n",
    "\n",
    "with open('fsd_1555_400_500.pkl', 'rb') as f:\n",
    "    texts.append(pickle.load(f))\n",
    "\n",
    "with open('fsd_1555_500_600.pkl', 'rb') as f:\n",
    "    texts.append(pickle.load(f))\n",
    "\n",
    "with open('fsd_1555_600_700.pkl', 'rb') as f:\n",
    "    texts.append(pickle.load(f))\n",
    "\n",
    "with open('fsd_1555_700_717.pkl', 'rb') as f:\n",
    "    texts.append(pickle.load(f))\n",
    "\n",
    "for i in texts:\n",
    "    for j in i :\n",
    "        eng_text.append(j)\n",
    "\n",
    "print(len(eng_text))"
   ]
  },
  {
   "cell_type": "code",
   "execution_count": 3,
   "metadata": {},
   "outputs": [
    {
     "data": {
      "text/plain": [
       "'≪Regional Information≫ [Regional Weather Information on Heavy Rains and High Waves in the Kinki Region] In the Kinki Region, it is expected that heavy rains and very heavy rains with local thunderstorms will fall from the beginning of the day to the middle of the morning of the third day.Watch out for landslides, low-land flooding, increased flooding and flooding of rivers from the afternoon of the second day until late at night.'"
      ]
     },
     "execution_count": 3,
     "metadata": {},
     "output_type": "execute_result"
    }
   ],
   "source": [
    "eng_text[699]"
   ]
  },
  {
   "cell_type": "code",
   "execution_count": 4,
   "metadata": {},
   "outputs": [
    {
     "data": {
      "text/html": [
       "<div>\n",
       "<style scoped>\n",
       "    .dataframe tbody tr th:only-of-type {\n",
       "        vertical-align: middle;\n",
       "    }\n",
       "\n",
       "    .dataframe tbody tr th {\n",
       "        vertical-align: top;\n",
       "    }\n",
       "\n",
       "    .dataframe thead th {\n",
       "        text-align: right;\n",
       "    }\n",
       "</style>\n",
       "<table border=\"1\" class=\"dataframe\">\n",
       "  <thead>\n",
       "    <tr style=\"text-align: right;\">\n",
       "      <th></th>\n",
       "      <th>date</th>\n",
       "      <th>text</th>\n",
       "    </tr>\n",
       "  </thead>\n",
       "  <tbody>\n",
       "    <tr>\n",
       "      <th>7359</th>\n",
       "      <td>2023-06-01 06:34:16+00:00</td>\n",
       "      <td>大阪は滋賀県の琵琶湖に頼ってるから滋賀県だけでも雨降って欲しい、洪水にならない程度に…</td>\n",
       "    </tr>\n",
       "    <tr>\n",
       "      <th>7360</th>\n",
       "      <td>2023-06-01 06:34:11+00:00</td>\n",
       "      <td>明日の関東地方は 大雨突風に要注意！ 線状降水帯による河川の氾濫 および用水路の増水に注意！！</td>\n",
       "    </tr>\n",
       "    <tr>\n",
       "      <th>7361</th>\n",
       "      <td>2023-06-01 06:32:23+00:00</td>\n",
       "      <td>【大雨と高波に関する近畿地方気象情報】（2023年06月01日 15時32分） 近畿地方では、１日夜のはじめ頃から３日午前中にかけて、局地的に雷を伴った激しい雨や非常に激しい雨が降る見込みです。２日昼前から夜遅くにかけて、土砂災害や低い土地の浸水、河川の増水や氾濫に警戒してください。</td>\n",
       "    </tr>\n",
       "    <tr>\n",
       "      <th>7362</th>\n",
       "      <td>2023-06-01 06:32:22+00:00</td>\n",
       "      <td>【近畿地方 気象情報 2023年06月01日 15:32】 近畿地方では、1日夜のはじめ頃から3日午前中にかけて、局地的に雷を伴った激しい雨や非常に激しい雨が降る見込みです。2日昼前から夜遅くにかけて、土砂災害や低い土地の浸水、河川の増水や氾濫に警戒してください。</td>\n",
       "    </tr>\n",
       "    <tr>\n",
       "      <th>7363</th>\n",
       "      <td>2023-06-01 06:30:48+00:00</td>\n",
       "      <td>梅雨前線の影響により、兵庫県内では今夜から断続的に雨が降り続き、特に２日（金）から３日(土)にかけて大雨となる可能性があります！ 土砂災害、低い土地の浸水、河川の増水や氾濫などに厳重に警戒してください！！ 兵庫県災害対策センターより！(私はセンターではありません)</td>\n",
       "    </tr>\n",
       "  </tbody>\n",
       "</table>\n",
       "</div>"
      ],
      "text/plain": [
       "                           date  \\\n",
       "7359  2023-06-01 06:34:16+00:00   \n",
       "7360  2023-06-01 06:34:11+00:00   \n",
       "7361  2023-06-01 06:32:23+00:00   \n",
       "7362  2023-06-01 06:32:22+00:00   \n",
       "7363  2023-06-01 06:30:48+00:00   \n",
       "\n",
       "                                                                                                                                                text  \n",
       "7359                                                                                                     大阪は滋賀県の琵琶湖に頼ってるから滋賀県だけでも雨降って欲しい、洪水にならない程度に…  \n",
       "7360                                                                                                 明日の関東地方は 大雨突風に要注意！ 線状降水帯による河川の氾濫 および用水路の増水に注意！！  \n",
       "7361  【大雨と高波に関する近畿地方気象情報】（2023年06月01日 15時32分） 近畿地方では、１日夜のはじめ頃から３日午前中にかけて、局地的に雷を伴った激しい雨や非常に激しい雨が降る見込みです。２日昼前から夜遅くにかけて、土砂災害や低い土地の浸水、河川の増水や氾濫に警戒してください。  \n",
       "7362            【近畿地方 気象情報 2023年06月01日 15:32】 近畿地方では、1日夜のはじめ頃から3日午前中にかけて、局地的に雷を伴った激しい雨や非常に激しい雨が降る見込みです。2日昼前から夜遅くにかけて、土砂災害や低い土地の浸水、河川の増水や氾濫に警戒してください。  \n",
       "7363            梅雨前線の影響により、兵庫県内では今夜から断続的に雨が降り続き、特に２日（金）から３日(土)にかけて大雨となる可能性があります！ 土砂災害、低い土地の浸水、河川の増水や氾濫などに厳重に警戒してください！！ 兵庫県災害対策センターより！(私はセンターではありません)  "
      ]
     },
     "execution_count": 4,
     "metadata": {},
     "output_type": "execute_result"
    }
   ],
   "source": [
    "#Add path to directory\n",
    "sys.path.append('/home/mbhatti/mnt/d/LLM-repo1/models')\n",
    "from langchain_implementation import Text_preprocessing\n",
    "\n",
    "#Parameters for records to translate\n",
    "dataPath = \"/home/mbhatti/mnt/d/LLM-repo1/models/datasets/FSD1555_June23_Updated.json\" \n",
    "dateFrom = \"2023-06-01 06:00:00+00:00\"\n",
    "dateTo = \"2023-06-01 15:00:00+00:00\"\n",
    " \n",
    "\"\"\"Load relevant fields of flood tags api json response\"\"\"\n",
    "def json_dataloader_toPandas(dataPath, dateFrom, dateTo):\n",
    "    # Load json and extract relevant records in pandas df\n",
    "    with open(dataPath, 'r') as json_file:\n",
    "        response_dict = json.load(json_file)\n",
    "\n",
    "    # Convert to pandas df    \n",
    "    pd.set_option('display.max_colwidth', None)\n",
    "    df = pd.DataFrame(response_dict)\n",
    "\n",
    "\n",
    "    df['date'] = pd.to_datetime(df['date'], format=\"mixed\")\n",
    "    df = df.drop(columns=['id','tag_class', 'source', 'lang', 'urls','locations'])\n",
    "\n",
    "    #Get data between thresholds\n",
    "    threshold_datetime_lower = pd.to_datetime(dateFrom)\n",
    "    threshold_datetime_upper = pd.to_datetime(dateTo)\n",
    "    df = df[df['date'] >= threshold_datetime_lower]\n",
    "    df = df[df['date'] <= threshold_datetime_upper]\n",
    "\n",
    "    #Pre-process\n",
    "    preprocess = Text_preprocessing.Text_preprocessing(df)\n",
    "    df = preprocess.preprocess()\n",
    "    #Covert date to string\n",
    "    df['date'] = df['date'].astype(str)\n",
    "    return df\n",
    "\n",
    "\n",
    "df = json_dataloader_toPandas(dataPath, dateFrom, dateTo)\n",
    "tweets_ja= df['text'].tolist()\n",
    "# tweets_ja = tweets_ja[0:400]\n",
    "\n",
    "df.iloc[700:705]"
   ]
  },
  {
   "cell_type": "code",
   "execution_count": 13,
   "metadata": {},
   "outputs": [],
   "source": [
    "# saving the excel\n",
    "#Save to pickle\n",
    "with open('fsd_1555_Japan_06_15.pkl', 'wb') as f:\n",
    "    pickle.dump(df, f)\n",
    "# df.to_excel(\"fsd_1555_Japan_06_15.xlsx\")"
   ]
  },
  {
   "cell_type": "code",
   "execution_count": 12,
   "metadata": {},
   "outputs": [
    {
     "data": {
      "text/html": [
       "<div>\n",
       "<style scoped>\n",
       "    .dataframe tbody tr th:only-of-type {\n",
       "        vertical-align: middle;\n",
       "    }\n",
       "\n",
       "    .dataframe tbody tr th {\n",
       "        vertical-align: top;\n",
       "    }\n",
       "\n",
       "    .dataframe thead th {\n",
       "        text-align: right;\n",
       "    }\n",
       "</style>\n",
       "<table border=\"1\" class=\"dataframe\">\n",
       "  <thead>\n",
       "    <tr style=\"text-align: right;\">\n",
       "      <th></th>\n",
       "      <th>date</th>\n",
       "      <th>text</th>\n",
       "    </tr>\n",
       "  </thead>\n",
       "  <tbody>\n",
       "    <tr>\n",
       "      <th>6659</th>\n",
       "      <td>2023-06-01 14:59:30+00:00</td>\n",
       "      <td>大分県我が家のうちは古民家で農家だったから納屋まであった。床が高かったから台風が来ても床下浸水で済んだ。しかしながら便所に行く部屋だけが天井から三ヶ所水漏れしてた。なのでたらいい、鍋、やかんとか置いて水漏れを受け止めてた。その音がまたなんとも言えない風情があった</td>\n",
       "    </tr>\n",
       "    <tr>\n",
       "      <th>6660</th>\n",
       "      <td>2023-06-01 14:59:26+00:00</td>\n",
       "      <td>７月４日に南海トラフになると聞きましたが、日にち前後するために高台へ何日か食料飲料持ち避難と聞き員暴論なに言ってるんだと言われたので官邸に伝え、アメリカ９.１１災害みたいに６月１１日前後に南海トラフ大津波起こされるんですかアメリカのハ―プ電磁波で日本国に伝えましたが。</td>\n",
       "    </tr>\n",
       "    <tr>\n",
       "      <th>6661</th>\n",
       "      <td>2023-06-01 14:55:13+00:00</td>\n",
       "      <td>【あす中国・四国で #線状降水帯 の恐れ】 台風2号が接近した沖縄・石垣島では最大瞬間風速29.3mを観測。午後9時時点で、名護市など3つの自治体に警戒レベル4の「#避難指示」 ▼気象庁は中国・四国地方に、今年初めて“線状降水帯”の予測情報を発表 →あす大雨による #災害 が起きる可能性も</td>\n",
       "    </tr>\n",
       "    <tr>\n",
       "      <th>6662</th>\n",
       "      <td>2023-06-01 14:55:01+00:00</td>\n",
       "      <td>【台風2号接近】大分県内は2日非常に激しい雨のおそれ 土砂災害に警戒 低い土地の浸水・河川増水に注意｜台風2号が近づく県内。2日は大分県内各地で非常に激しい雨が降るおそれがあり、土砂災害に警戒が必要です...（OBS大分放送）</td>\n",
       "    </tr>\n",
       "    <tr>\n",
       "      <th>6663</th>\n",
       "      <td>2023-06-01 14:52:58+00:00</td>\n",
       "      <td>マジで今回前回よりむずない？ いやわたしは絶対雷入れたくなくてタルタリヤで水害獣殴ってたせいもあるとは思うんですけど</td>\n",
       "    </tr>\n",
       "    <tr>\n",
       "      <th>...</th>\n",
       "      <td>...</td>\n",
       "      <td>...</td>\n",
       "    </tr>\n",
       "    <tr>\n",
       "      <th>7372</th>\n",
       "      <td>2023-06-01 06:09:02+00:00</td>\n",
       "      <td>台風２号の影響で3日にかけて東海3県は大雨の恐れ　土砂災害や浸水に警戒(メ〜テレ（名古屋テレビ）) #Yahooニュース</td>\n",
       "    </tr>\n",
       "    <tr>\n",
       "      <th>7373</th>\n",
       "      <td>2023-06-01 06:08:47+00:00</td>\n",
       "      <td>まさかの2か月連続台風… それが無ければフローラ姫さんか、あやママさんで決まってたかな？と、思うけど、それも桃鉄。 　 でも、珍しいも。 水俣の畑に被害は無く… ほっとしました。</td>\n",
       "    </tr>\n",
       "    <tr>\n",
       "      <th>7374</th>\n",
       "      <td>2023-06-01 06:05:16+00:00</td>\n",
       "      <td>ハザードマップを確認 台風2号の北上にともなって、 日本の南にある前線の活動が活発になる見込みで、 東海3県では、今夜から3日にかけて雷をともなった非常に激しい雨が降るところがある見込みです。 自分が住む地域の災害の危険性を事前に確認し、避難の場所や方法を確認しておきましょう。</td>\n",
       "    </tr>\n",
       "    <tr>\n",
       "      <th>7375</th>\n",
       "      <td>2023-06-01 06:01:47+00:00</td>\n",
       "      <td>今後36時間で、300mmを超えるような予想のところもあります。この図はあくまでコンピュータの予想で、局地的にはそれよりも多くなる可能性もあります。 南西諸島から東日本の広い範囲で、土砂災害、低い土地の浸水、河川の増水や氾濫に警戒してください。</td>\n",
       "    </tr>\n",
       "    <tr>\n",
       "      <th>7376</th>\n",
       "      <td>2023-06-01 06:00:16+00:00</td>\n",
       "      <td>本日夜から3日（土曜）明け方にかけて、大気の状態が非常に不安定となり、堺市においても激しい雨が降るおそれがあります。河川氾濫や土砂災害、道路の冠水などに注意が必要です。いざという時に慌てず行動できるよう、事前の備えを確認しておきましょう。</td>\n",
       "    </tr>\n",
       "  </tbody>\n",
       "</table>\n",
       "<p>718 rows × 2 columns</p>\n",
       "</div>"
      ],
      "text/plain": [
       "                           date  \\\n",
       "6659  2023-06-01 14:59:30+00:00   \n",
       "6660  2023-06-01 14:59:26+00:00   \n",
       "6661  2023-06-01 14:55:13+00:00   \n",
       "6662  2023-06-01 14:55:01+00:00   \n",
       "6663  2023-06-01 14:52:58+00:00   \n",
       "...                         ...   \n",
       "7372  2023-06-01 06:09:02+00:00   \n",
       "7373  2023-06-01 06:08:47+00:00   \n",
       "7374  2023-06-01 06:05:16+00:00   \n",
       "7375  2023-06-01 06:01:47+00:00   \n",
       "7376  2023-06-01 06:00:16+00:00   \n",
       "\n",
       "                                                                                                                                                   text  \n",
       "6659                大分県我が家のうちは古民家で農家だったから納屋まであった。床が高かったから台風が来ても床下浸水で済んだ。しかしながら便所に行く部屋だけが天井から三ヶ所水漏れしてた。なのでたらいい、鍋、やかんとか置いて水漏れを受け止めてた。その音がまたなんとも言えない風情があった  \n",
       "6660             ７月４日に南海トラフになると聞きましたが、日にち前後するために高台へ何日か食料飲料持ち避難と聞き員暴論なに言ってるんだと言われたので官邸に伝え、アメリカ９.１１災害みたいに６月１１日前後に南海トラフ大津波起こされるんですかアメリカのハ―プ電磁波で日本国に伝えましたが。  \n",
       "6661  【あす中国・四国で #線状降水帯 の恐れ】 台風2号が接近した沖縄・石垣島では最大瞬間風速29.3mを観測。午後9時時点で、名護市など3つの自治体に警戒レベル4の「#避難指示」 ▼気象庁は中国・四国地方に、今年初めて“線状降水帯”の予測情報を発表 →あす大雨による #災害 が起きる可能性も  \n",
       "6662                                  【台風2号接近】大分県内は2日非常に激しい雨のおそれ 土砂災害に警戒 低い土地の浸水・河川増水に注意｜台風2号が近づく県内。2日は大分県内各地で非常に激しい雨が降るおそれがあり、土砂災害に警戒が必要です...（OBS大分放送）  \n",
       "6663                                                                                         マジで今回前回よりむずない？ いやわたしは絶対雷入れたくなくてタルタリヤで水害獣殴ってたせいもあるとは思うんですけど  \n",
       "...                                                                                                                                                 ...  \n",
       "7372                                                                                       台風２号の影響で3日にかけて東海3県は大雨の恐れ　土砂災害や浸水に警戒(メ〜テレ（名古屋テレビ）) #Yahooニュース  \n",
       "7373                                                          まさかの2か月連続台風… それが無ければフローラ姫さんか、あやママさんで決まってたかな？と、思うけど、それも桃鉄。 　 でも、珍しいも。 水俣の畑に被害は無く… ほっとしました。  \n",
       "7374        ハザードマップを確認 台風2号の北上にともなって、 日本の南にある前線の活動が活発になる見込みで、 東海3県では、今夜から3日にかけて雷をともなった非常に激しい雨が降るところがある見込みです。 自分が住む地域の災害の危険性を事前に確認し、避難の場所や方法を確認しておきましょう。  \n",
       "7375                         今後36時間で、300mmを超えるような予想のところもあります。この図はあくまでコンピュータの予想で、局地的にはそれよりも多くなる可能性もあります。 南西諸島から東日本の広い範囲で、土砂災害、低い土地の浸水、河川の増水や氾濫に警戒してください。  \n",
       "7376                            本日夜から3日（土曜）明け方にかけて、大気の状態が非常に不安定となり、堺市においても激しい雨が降るおそれがあります。河川氾濫や土砂災害、道路の冠水などに注意が必要です。いざという時に慌てず行動できるよう、事前の備えを確認しておきましょう。  \n",
       "\n",
       "[718 rows x 2 columns]"
      ]
     },
     "execution_count": 12,
     "metadata": {},
     "output_type": "execute_result"
    }
   ],
   "source": [
    "df"
   ]
  },
  {
   "cell_type": "code",
   "execution_count": 5,
   "metadata": {},
   "outputs": [
    {
     "data": {
      "text/plain": [
       "'≪地方情報≫ ［大雨と高波に関する近畿地方気象情報］ 近畿地方では、1日夜のはじめ頃から3日午前中にかけて、局地的に雷を伴った激しい雨や非常に激しい雨が降る見込みです。2日昼前から夜遅くにかけて、土砂災害や低い土地の浸水、河川の増水や氾濫に警戒してください。'"
      ]
     },
     "execution_count": 5,
     "metadata": {},
     "output_type": "execute_result"
    }
   ],
   "source": [
    "tweets_ja[699]\n"
   ]
  },
  {
   "cell_type": "code",
   "execution_count": 6,
   "metadata": {},
   "outputs": [
    {
     "name": "stderr",
     "output_type": "stream",
     "text": [
      "/tmp/ipykernel_2459818/868743165.py:2: SettingWithCopyWarning: \n",
      "A value is trying to be set on a copy of a slice from a DataFrame.\n",
      "Try using .loc[row_indexer,col_indexer] = value instead\n",
      "\n",
      "See the caveats in the documentation: https://pandas.pydata.org/pandas-docs/stable/user_guide/indexing.html#returning-a-view-versus-a-copy\n",
      "  df_eng['text'] = eng_text\n"
     ]
    }
   ],
   "source": [
    "df_eng = df.iloc[0:-1]\n",
    "df_eng['text'] = eng_text"
   ]
  },
  {
   "cell_type": "code",
   "execution_count": 7,
   "metadata": {},
   "outputs": [
    {
     "name": "stdout",
     "output_type": "stream",
     "text": [
      "Start date time:  2023-06-01 06:01:47+00:00\n",
      "End date time:  2023-06-01 14:59:30+00:00\n"
     ]
    }
   ],
   "source": [
    "print('Start date time: ',df_eng.iloc[-1]['date'])\n",
    "print('End date time: ',df_eng.iloc[0]['date'])\n"
   ]
  },
  {
   "cell_type": "code",
   "execution_count": 8,
   "metadata": {},
   "outputs": [],
   "source": [
    "#Save to pickle\n",
    "with open('fsd_1555_0601_06:00:00_15:00:00.pkl', 'wb') as f:\n",
    "    pickle.dump(df_eng, f)"
   ]
  },
  {
   "cell_type": "code",
   "execution_count": 10,
   "metadata": {},
   "outputs": [
    {
     "ename": "FileNotFoundError",
     "evalue": "[Errno 2] No such file or directory: 'fsd_1555_0601_06:00:00_15:00:00.pkl'",
     "output_type": "error",
     "traceback": [
      "\u001b[0;31m---------------------------------------------------------------------------\u001b[0m",
      "\u001b[0;31mFileNotFoundError\u001b[0m                         Traceback (most recent call last)",
      "Cell \u001b[0;32mIn[10], line 2\u001b[0m\n\u001b[1;32m      1\u001b[0m \u001b[38;5;66;03m#Try opening the file\u001b[39;00m\n\u001b[0;32m----> 2\u001b[0m \u001b[38;5;28;01mwith\u001b[39;00m \u001b[38;5;28;43mopen\u001b[39;49m\u001b[43m(\u001b[49m\u001b[38;5;124;43m'\u001b[39;49m\u001b[38;5;124;43mfsd_1555_0601_06:00:00_15:00:00.pkl\u001b[39;49m\u001b[38;5;124;43m'\u001b[39;49m\u001b[43m,\u001b[49m\u001b[43m \u001b[49m\u001b[38;5;124;43m'\u001b[39;49m\u001b[38;5;124;43mrb\u001b[39;49m\u001b[38;5;124;43m'\u001b[39;49m\u001b[43m)\u001b[49m \u001b[38;5;28;01mas\u001b[39;00m f:\n\u001b[1;32m      3\u001b[0m     x \u001b[38;5;241m=\u001b[39m pickle\u001b[38;5;241m.\u001b[39mload(f)\n",
      "File \u001b[0;32m~/miniconda3/envs/llama/lib/python3.11/site-packages/IPython/core/interactiveshell.py:324\u001b[0m, in \u001b[0;36m_modified_open\u001b[0;34m(file, *args, **kwargs)\u001b[0m\n\u001b[1;32m    317\u001b[0m \u001b[38;5;28;01mif\u001b[39;00m file \u001b[38;5;129;01min\u001b[39;00m {\u001b[38;5;241m0\u001b[39m, \u001b[38;5;241m1\u001b[39m, \u001b[38;5;241m2\u001b[39m}:\n\u001b[1;32m    318\u001b[0m     \u001b[38;5;28;01mraise\u001b[39;00m \u001b[38;5;167;01mValueError\u001b[39;00m(\n\u001b[1;32m    319\u001b[0m         \u001b[38;5;124mf\u001b[39m\u001b[38;5;124m\"\u001b[39m\u001b[38;5;124mIPython won\u001b[39m\u001b[38;5;124m'\u001b[39m\u001b[38;5;124mt let you open fd=\u001b[39m\u001b[38;5;132;01m{\u001b[39;00mfile\u001b[38;5;132;01m}\u001b[39;00m\u001b[38;5;124m by default \u001b[39m\u001b[38;5;124m\"\u001b[39m\n\u001b[1;32m    320\u001b[0m         \u001b[38;5;124m\"\u001b[39m\u001b[38;5;124mas it is likely to crash IPython. If you know what you are doing, \u001b[39m\u001b[38;5;124m\"\u001b[39m\n\u001b[1;32m    321\u001b[0m         \u001b[38;5;124m\"\u001b[39m\u001b[38;5;124myou can use builtins\u001b[39m\u001b[38;5;124m'\u001b[39m\u001b[38;5;124m open.\u001b[39m\u001b[38;5;124m\"\u001b[39m\n\u001b[1;32m    322\u001b[0m     )\n\u001b[0;32m--> 324\u001b[0m \u001b[38;5;28;01mreturn\u001b[39;00m \u001b[43mio_open\u001b[49m\u001b[43m(\u001b[49m\u001b[43mfile\u001b[49m\u001b[43m,\u001b[49m\u001b[43m \u001b[49m\u001b[38;5;241;43m*\u001b[39;49m\u001b[43margs\u001b[49m\u001b[43m,\u001b[49m\u001b[43m \u001b[49m\u001b[38;5;241;43m*\u001b[39;49m\u001b[38;5;241;43m*\u001b[39;49m\u001b[43mkwargs\u001b[49m\u001b[43m)\u001b[49m\n",
      "\u001b[0;31mFileNotFoundError\u001b[0m: [Errno 2] No such file or directory: 'fsd_1555_0601_06:00:00_15:00:00.pkl'"
     ]
    }
   ],
   "source": [
    "#Try opening the file\n",
    "with open('fsd_1555_0601_06:00:00_15:00:00.pkl', 'rb') as f:\n",
    "    x = pickle.load(f)"
   ]
  },
  {
   "cell_type": "code",
   "execution_count": 9,
   "metadata": {},
   "outputs": [
    {
     "ename": "NameError",
     "evalue": "name 'x' is not defined",
     "output_type": "error",
     "traceback": [
      "\u001b[0;31m---------------------------------------------------------------------------\u001b[0m",
      "\u001b[0;31mNameError\u001b[0m                                 Traceback (most recent call last)",
      "Cell \u001b[0;32mIn[9], line 1\u001b[0m\n\u001b[0;32m----> 1\u001b[0m \u001b[43mx\u001b[49m\u001b[38;5;241m.\u001b[39miloc[\u001b[38;5;241m700\u001b[39m:\u001b[38;5;241m705\u001b[39m]\n",
      "\u001b[0;31mNameError\u001b[0m: name 'x' is not defined"
     ]
    }
   ],
   "source": [
    "x.iloc[700:705]"
   ]
  },
  {
   "cell_type": "code",
   "execution_count": 58,
   "metadata": {},
   "outputs": [],
   "source": [
    "# saving the excel\n",
    "x.to_excel(\"fsd_1555_0601_06:00:00_15:00:00.xlsx\")"
   ]
  }
 ],
 "metadata": {
  "kernelspec": {
   "display_name": "llama",
   "language": "python",
   "name": "python3"
  },
  "language_info": {
   "codemirror_mode": {
    "name": "ipython",
    "version": 3
   },
   "file_extension": ".py",
   "mimetype": "text/x-python",
   "name": "python",
   "nbconvert_exporter": "python",
   "pygments_lexer": "ipython3",
   "version": "3.11.7"
  }
 },
 "nbformat": 4,
 "nbformat_minor": 2
}
